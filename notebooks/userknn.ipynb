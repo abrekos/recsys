{
    "cells": [
        {
            "cell_type": "code",
            "execution_count": 14,
            "id": "ad9a4ee8-79c1-4357-b447-be949bbbb70b",
            "metadata": {},
            "outputs": [],
            "source": [
                "import os\n",
                "import pickle\n",
                "import random\n",
                "\n",
                "import numpy as np\n",
                "import pandas as pd\n",
                "\n",
                "from IPython.display import display\n",
                "from implicit.nearest_neighbours import BM25Recommender, CosineRecommender, TFIDFRecommender\n",
                "from rectools import Columns\n",
                "from rectools.dataset import Dataset, Interactions\n",
                "from rectools.metrics import MAP, NDCG, MeanInvUserFreq, Precision, Recall, Serendipity\n",
                "from rectools.metrics.base import MetricAtK\n",
                "from rectools.model_selection import TimeRangeSplitter\n",
                "from tqdm import tqdm\n",
                "from service.api.models.userknn import UserKnn\n",
                "\n",
                "from helpers.metrics import calculate_metrics\n",
                "from helpers.visualization import visualize_metrics"
            ]
        },
        {
            "cell_type": "code",
            "execution_count": 15,
            "id": "2de47996-244c-4287-8b3b-862d85477730",
            "metadata": {},
            "outputs": [],
            "source": [
                "RANDOM_STATE = 32\n",
                "random.seed(RANDOM_STATE)\n",
                "os.environ[\"PYTHONHASHSEED\"] = str(RANDOM_STATE)\n",
                "np.random.seed(RANDOM_STATE)"
            ]
        },
        {
            "cell_type": "code",
            "execution_count": 16,
            "id": "108539c2-3f84-461e-9e9f-50b1ab906da2",
            "metadata": {},
            "outputs": [],
            "source": [
                "K_RECOS = 10\n",
                "N_SPLITS = 3\n",
                "MODEL_PATH = \"weights/userknn.pkl\""
            ]
        },
        {
            "cell_type": "markdown",
            "id": "5d18201b-3d1d-41eb-8305-cb1033ac66bb",
            "metadata": {},
            "source": [
                "## Инициализация датасета"
            ]
        },
        {
            "cell_type": "code",
            "execution_count": 17,
            "id": "e4db36ff-7fb1-4460-a39a-c7e48f94cb8d",
            "metadata": {},
            "outputs": [],
            "source": [
                "users = pd.read_csv(\"kion_train/users.csv\")\n",
                "items = pd.read_csv(\"kion_train/items.csv\")\n",
                "interactions_df = pd.read_csv(\"kion_train/interactions.csv\", parse_dates=[\"last_watch_dt\"])"
            ]
        },
        {
            "cell_type": "code",
            "execution_count": 18,
            "id": "39953fbc",
            "metadata": {},
            "outputs": [],
            "source": [
                "interactions_df.rename(columns={\"last_watch_dt\": Columns.Datetime, \"total_dur\": Columns.Weight}, inplace=True)\n",
                "interactions = Interactions(interactions_df)"
            ]
        },
        {
            "cell_type": "markdown",
            "id": "242a0a7b-3aef-42d6-9258-4c2d65b3ec91",
            "metadata": {},
            "source": [
                "## Эксперименты"
            ]
        },
        {
            "cell_type": "markdown",
            "id": "f7ad4456-4160-421b-8640-ab15557ef932",
            "metadata": {},
            "source": [
                "В качестве эксперимента попробуем затюнить knn backbone"
            ]
        },
        {
            "cell_type": "code",
            "execution_count": 19,
            "id": "2485a893-b9ce-469e-a915-a1f6ba9f3041",
            "metadata": {},
            "outputs": [],
            "source": [
                "metrics: dict[str, MetricAtK] = {}\n",
                "for k in [1, 5, 10]:\n",
                "    metrics.update(\n",
                "        {\n",
                "            f\"top@{k}_precision\": Precision(k=k),\n",
                "            f\"top@{k}_recall\": Recall(k=k),\n",
                "            f\"top@{k}_ndcg\": NDCG(k=k),\n",
                "            f\"top@{k}_map\": MAP(k=k),\n",
                "            f\"top@{k}_serendipity\": Serendipity(k=k),\n",
                "            f\"top@{k}_mean_inv_user_freq\": MeanInvUserFreq(k=k),\n",
                "        }\n",
                "    )"
            ]
        },
        {
            "cell_type": "markdown",
            "id": "5a23b143-1579-41ce-a3af-03746061ee8e",
            "metadata": {},
            "source": [
                "Инициализируем TimeRangeSplitter"
            ]
        },
        {
            "cell_type": "code",
            "execution_count": 20,
            "id": "3c2115b5-6a2e-421a-8bf6-c294a91944e0",
            "metadata": {},
            "outputs": [],
            "source": [
                "splitter = TimeRangeSplitter(\n",
                "    test_size=\"7D\", n_splits=N_SPLITS, filter_already_seen=True, filter_cold_items=True, filter_cold_users=True\n",
                ")"
            ]
        },
        {
            "cell_type": "markdown",
            "id": "1e42bf59-9a02-4fdf-94ab-a4b04f12b942",
            "metadata": {},
            "source": [
                "Инициализируем набор моделей с k=20 в backbone модели UserKnn"
            ]
        },
        {
            "cell_type": "code",
            "execution_count": 21,
            "id": "eed7fa40-f0b9-4b52-b608-c7848274e48e",
            "metadata": {},
            "outputs": [],
            "source": [
                "models = [UserKnn(CosineRecommender(), 50), UserKnn(BM25Recommender(), 50), UserKnn(TFIDFRecommender(), 50)]"
            ]
        },
        {
            "cell_type": "markdown",
            "id": "82ca5bb4-5667-4fe0-9586-c642497ee74c",
            "metadata": {},
            "source": [
                "Запускаем перебор гиперпараметров"
            ]
        },
        {
            "cell_type": "code",
            "execution_count": 22,
            "id": "a1efe797-c8bb-4d46-b8c7-e446c8208998",
            "metadata": {},
            "outputs": [
                {
                    "name": "stderr",
                    "output_type": "stream",
                    "text": [
                        "  0%|                                                                                             | 0/3 [00:03<?, ?it/s]\n"
                    ]
                },
                {
                    "ename": "KeyboardInterrupt",
                    "evalue": "",
                    "output_type": "error",
                    "traceback": [
                        "\u001b[0;31m---------------------------------------------------------------------------\u001b[0m",
                        "\u001b[0;31mKeyboardInterrupt\u001b[0m                         Traceback (most recent call last)",
                        "Cell \u001b[0;32mIn[22], line 3\u001b[0m\n\u001b[1;32m      1\u001b[0m model_metrics \u001b[38;5;241m=\u001b[39m []\n\u001b[1;32m      2\u001b[0m \u001b[38;5;28;01mfor\u001b[39;00m model \u001b[38;5;129;01min\u001b[39;00m tqdm(models, total\u001b[38;5;241m=\u001b[39m\u001b[38;5;28mlen\u001b[39m(models)):\n\u001b[0;32m----> 3\u001b[0m     result \u001b[38;5;241m=\u001b[39m \u001b[43mcalculate_metrics\u001b[49m\u001b[43m(\u001b[49m\n\u001b[1;32m      4\u001b[0m \u001b[43m        \u001b[49m\u001b[43minteractions\u001b[49m\u001b[38;5;241;43m=\u001b[39;49m\u001b[43minteractions\u001b[49m\u001b[43m,\u001b[49m\u001b[43m \u001b[49m\u001b[43mmetrics\u001b[49m\u001b[38;5;241;43m=\u001b[39;49m\u001b[43mmetrics\u001b[49m\u001b[43m,\u001b[49m\u001b[43m \u001b[49m\u001b[43mmodel\u001b[49m\u001b[38;5;241;43m=\u001b[39;49m\u001b[43mmodel\u001b[49m\u001b[43m,\u001b[49m\u001b[43m \u001b[49m\u001b[43msplitter\u001b[49m\u001b[38;5;241;43m=\u001b[39;49m\u001b[43msplitter\u001b[49m\u001b[43m,\u001b[49m\u001b[43m \u001b[49m\u001b[43mk_recos\u001b[49m\u001b[38;5;241;43m=\u001b[39;49m\u001b[43mK_RECOS\u001b[49m\n\u001b[1;32m      5\u001b[0m \u001b[43m    \u001b[49m\u001b[43m)\u001b[49m\n\u001b[1;32m      6\u001b[0m     model_metrics\u001b[38;5;241m.\u001b[39mextend(result)\n",
                        "File \u001b[0;32m~/itmo/recsys/project/helpers/metrics.py:82\u001b[0m, in \u001b[0;36mcalculate_metrics\u001b[0;34m(interactions, metrics, model, splitter, k_recos)\u001b[0m\n\u001b[1;32m     80\u001b[0m df_train \u001b[38;5;241m=\u001b[39m interactions\u001b[38;5;241m.\u001b[39mdf\u001b[38;5;241m.\u001b[39miloc[train_ids]\n\u001b[1;32m     81\u001b[0m df_test \u001b[38;5;241m=\u001b[39m interactions\u001b[38;5;241m.\u001b[39mdf\u001b[38;5;241m.\u001b[39miloc[test_ids][Columns\u001b[38;5;241m.\u001b[39mUserItem]\n\u001b[0;32m---> 82\u001b[0m metric_values, train_time \u001b[38;5;241m=\u001b[39m \u001b[43mcalculate_model_metrics\u001b[49m\u001b[43m(\u001b[49m\n\u001b[1;32m     83\u001b[0m \u001b[43m    \u001b[49m\u001b[43mmodel\u001b[49m\u001b[38;5;241;43m=\u001b[39;49m\u001b[43mdeepcopy\u001b[49m\u001b[43m(\u001b[49m\u001b[43mmodel\u001b[49m\u001b[43m)\u001b[49m\u001b[43m,\u001b[49m\u001b[43m \u001b[49m\u001b[43mmetrics\u001b[49m\u001b[38;5;241;43m=\u001b[39;49m\u001b[43mmetrics\u001b[49m\u001b[43m,\u001b[49m\u001b[43m \u001b[49m\u001b[43mdf_train\u001b[49m\u001b[38;5;241;43m=\u001b[39;49m\u001b[43mdf_train\u001b[49m\u001b[43m,\u001b[49m\u001b[43m \u001b[49m\u001b[43mdf_test\u001b[49m\u001b[38;5;241;43m=\u001b[39;49m\u001b[43mdf_test\u001b[49m\u001b[43m,\u001b[49m\u001b[43m \u001b[49m\u001b[43mk_recos\u001b[49m\u001b[38;5;241;43m=\u001b[39;49m\u001b[43mk_recos\u001b[49m\n\u001b[1;32m     84\u001b[0m \u001b[43m\u001b[49m\u001b[43m)\u001b[49m\n\u001b[1;32m     85\u001b[0m fold_result \u001b[38;5;241m=\u001b[39m {\u001b[38;5;124m\"\u001b[39m\u001b[38;5;124mfold\u001b[39m\u001b[38;5;124m\"\u001b[39m: fold_info[\u001b[38;5;124m\"\u001b[39m\u001b[38;5;124mi_split\u001b[39m\u001b[38;5;124m\"\u001b[39m], \u001b[38;5;124m\"\u001b[39m\u001b[38;5;124mmodel\u001b[39m\u001b[38;5;124m\"\u001b[39m: \u001b[38;5;28mstr\u001b[39m(model), \u001b[38;5;124m\"\u001b[39m\u001b[38;5;124mtrain time (sec)\u001b[39m\u001b[38;5;124m\"\u001b[39m: train_time}\n\u001b[1;32m     86\u001b[0m fold_result\u001b[38;5;241m.\u001b[39mupdate(metric_values)\n",
                        "File \u001b[0;32m~/itmo/recsys/project/helpers/metrics.py:49\u001b[0m, in \u001b[0;36mcalculate_model_metrics\u001b[0;34m(model, metrics, df_train, df_test, k_recos)\u001b[0m\n\u001b[1;32m     45\u001b[0m \u001b[38;5;28;01mdef\u001b[39;00m \u001b[38;5;21mcalculate_model_metrics\u001b[39m(\n\u001b[1;32m     46\u001b[0m     model, metrics: \u001b[38;5;28mdict\u001b[39m[\u001b[38;5;28mstr\u001b[39m, MetricAtK], df_train: pd\u001b[38;5;241m.\u001b[39mDataFrame, df_test: pd\u001b[38;5;241m.\u001b[39mDataFrame, k_recos: \u001b[38;5;28mint\u001b[39m\n\u001b[1;32m     47\u001b[0m ) \u001b[38;5;241m-\u001b[39m\u001b[38;5;241m>\u001b[39m Tuple[\u001b[38;5;28mdict\u001b[39m[\u001b[38;5;28mstr\u001b[39m, \u001b[38;5;28mfloat\u001b[39m], \u001b[38;5;28mfloat\u001b[39m]:\n\u001b[1;32m     48\u001b[0m     start_train_time \u001b[38;5;241m=\u001b[39m time()\n\u001b[0;32m---> 49\u001b[0m     \u001b[43mmodel\u001b[49m\u001b[38;5;241;43m.\u001b[39;49m\u001b[43mfit\u001b[49m\u001b[43m(\u001b[49m\u001b[43mtrain\u001b[49m\u001b[38;5;241;43m=\u001b[39;49m\u001b[43mdf_train\u001b[49m\u001b[43m)\u001b[49m\n\u001b[1;32m     50\u001b[0m     train_time \u001b[38;5;241m=\u001b[39m time() \u001b[38;5;241m-\u001b[39m start_train_time\n\u001b[1;32m     51\u001b[0m     recos \u001b[38;5;241m=\u001b[39m model\u001b[38;5;241m.\u001b[39mpredict(df_test)\n",
                        "File \u001b[0;32m~/itmo/recsys/project/service/api/models/userknn.py:63\u001b[0m, in \u001b[0;36mUserKnn.fit\u001b[0;34m(self, train)\u001b[0m\n\u001b[1;32m     61\u001b[0m \u001b[38;5;28mself\u001b[39m\u001b[38;5;241m.\u001b[39m_user_knn \u001b[38;5;241m=\u001b[39m deepcopy(\u001b[38;5;28mself\u001b[39m\u001b[38;5;241m.\u001b[39m_model)\n\u001b[1;32m     62\u001b[0m \u001b[38;5;28mself\u001b[39m\u001b[38;5;241m.\u001b[39mget_mappings(train\u001b[38;5;241m=\u001b[39mtrain)\n\u001b[0;32m---> 63\u001b[0m \u001b[38;5;28mself\u001b[39m\u001b[38;5;241m.\u001b[39mweights_matrix \u001b[38;5;241m=\u001b[39m \u001b[38;5;28;43mself\u001b[39;49m\u001b[38;5;241;43m.\u001b[39;49m\u001b[43mget_matrix\u001b[49m\u001b[43m(\u001b[49m\u001b[43mdf\u001b[49m\u001b[38;5;241;43m=\u001b[39;49m\u001b[43mtrain\u001b[49m\u001b[43m)\u001b[49m\n\u001b[1;32m     65\u001b[0m \u001b[38;5;28mself\u001b[39m\u001b[38;5;241m.\u001b[39mn \u001b[38;5;241m=\u001b[39m train\u001b[38;5;241m.\u001b[39mshape[\u001b[38;5;241m0\u001b[39m]\n\u001b[1;32m     66\u001b[0m \u001b[38;5;28mself\u001b[39m\u001b[38;5;241m.\u001b[39m_count_item_idf(train)\n",
                        "File \u001b[0;32m~/itmo/recsys/project/service/api/models/userknn.py:42\u001b[0m, in \u001b[0;36mUserKnn.get_matrix\u001b[0;34m(self, df, user_col, item_col, weight_col)\u001b[0m\n\u001b[1;32m     38\u001b[0m \u001b[38;5;28;01melse\u001b[39;00m:\n\u001b[1;32m     39\u001b[0m     weights \u001b[38;5;241m=\u001b[39m np\u001b[38;5;241m.\u001b[39mones(\u001b[38;5;28mlen\u001b[39m(df), dtype\u001b[38;5;241m=\u001b[39mnp\u001b[38;5;241m.\u001b[39mfloat32)\n\u001b[1;32m     41\u001b[0m \u001b[38;5;28mself\u001b[39m\u001b[38;5;241m.\u001b[39minteraction_matrix \u001b[38;5;241m=\u001b[39m sp\u001b[38;5;241m.\u001b[39msparse\u001b[38;5;241m.\u001b[39mcoo_matrix(\n\u001b[0;32m---> 42\u001b[0m     (weights, (\u001b[43mdf\u001b[49m\u001b[43m[\u001b[49m\u001b[43mitem_col\u001b[49m\u001b[43m]\u001b[49m\u001b[38;5;241;43m.\u001b[39;49m\u001b[43mmap\u001b[49m\u001b[43m(\u001b[49m\u001b[38;5;28;43mself\u001b[39;49m\u001b[38;5;241;43m.\u001b[39;49m\u001b[43mitems_mapping\u001b[49m\u001b[38;5;241;43m.\u001b[39;49m\u001b[43mget\u001b[49m\u001b[43m)\u001b[49m, df[user_col]\u001b[38;5;241m.\u001b[39mmap(\u001b[38;5;28mself\u001b[39m\u001b[38;5;241m.\u001b[39musers_mapping\u001b[38;5;241m.\u001b[39mget)))\n\u001b[1;32m     43\u001b[0m )\n\u001b[1;32m     45\u001b[0m \u001b[38;5;28mself\u001b[39m\u001b[38;5;241m.\u001b[39mwatched \u001b[38;5;241m=\u001b[39m (\n\u001b[1;32m     46\u001b[0m     df\u001b[38;5;241m.\u001b[39mgroupby(user_col, as_index\u001b[38;5;241m=\u001b[39m\u001b[38;5;28;01mFalse\u001b[39;00m)\u001b[38;5;241m.\u001b[39magg({item_col: \u001b[38;5;28mlist\u001b[39m})\u001b[38;5;241m.\u001b[39mrename(columns\u001b[38;5;241m=\u001b[39m{user_col: \u001b[38;5;124m\"\u001b[39m\u001b[38;5;124msim_user_id\u001b[39m\u001b[38;5;124m\"\u001b[39m})\n\u001b[1;32m     47\u001b[0m )\n\u001b[1;32m     49\u001b[0m \u001b[38;5;28;01mreturn\u001b[39;00m \u001b[38;5;28mself\u001b[39m\u001b[38;5;241m.\u001b[39minteraction_matrix\n",
                        "File \u001b[0;32m~/itmo/recsys/project/.venv/lib/python3.10/site-packages/pandas/core/series.py:4539\u001b[0m, in \u001b[0;36mSeries.map\u001b[0;34m(self, arg, na_action)\u001b[0m\n\u001b[1;32m   4460\u001b[0m \u001b[38;5;28;01mdef\u001b[39;00m \u001b[38;5;21mmap\u001b[39m(\n\u001b[1;32m   4461\u001b[0m     \u001b[38;5;28mself\u001b[39m,\n\u001b[1;32m   4462\u001b[0m     arg: Callable \u001b[38;5;241m|\u001b[39m Mapping \u001b[38;5;241m|\u001b[39m Series,\n\u001b[1;32m   4463\u001b[0m     na_action: Literal[\u001b[38;5;124m\"\u001b[39m\u001b[38;5;124mignore\u001b[39m\u001b[38;5;124m\"\u001b[39m] \u001b[38;5;241m|\u001b[39m \u001b[38;5;28;01mNone\u001b[39;00m \u001b[38;5;241m=\u001b[39m \u001b[38;5;28;01mNone\u001b[39;00m,\n\u001b[1;32m   4464\u001b[0m ) \u001b[38;5;241m-\u001b[39m\u001b[38;5;241m>\u001b[39m Series:\n\u001b[1;32m   4465\u001b[0m \u001b[38;5;250m    \u001b[39m\u001b[38;5;124;03m\"\"\"\u001b[39;00m\n\u001b[1;32m   4466\u001b[0m \u001b[38;5;124;03m    Map values of Series according to an input mapping or function.\u001b[39;00m\n\u001b[1;32m   4467\u001b[0m \n\u001b[0;32m   (...)\u001b[0m\n\u001b[1;32m   4537\u001b[0m \u001b[38;5;124;03m    dtype: object\u001b[39;00m\n\u001b[1;32m   4538\u001b[0m \u001b[38;5;124;03m    \"\"\"\u001b[39;00m\n\u001b[0;32m-> 4539\u001b[0m     new_values \u001b[38;5;241m=\u001b[39m \u001b[38;5;28;43mself\u001b[39;49m\u001b[38;5;241;43m.\u001b[39;49m\u001b[43m_map_values\u001b[49m\u001b[43m(\u001b[49m\u001b[43marg\u001b[49m\u001b[43m,\u001b[49m\u001b[43m \u001b[49m\u001b[43mna_action\u001b[49m\u001b[38;5;241;43m=\u001b[39;49m\u001b[43mna_action\u001b[49m\u001b[43m)\u001b[49m\n\u001b[1;32m   4540\u001b[0m     \u001b[38;5;28;01mreturn\u001b[39;00m \u001b[38;5;28mself\u001b[39m\u001b[38;5;241m.\u001b[39m_constructor(new_values, index\u001b[38;5;241m=\u001b[39m\u001b[38;5;28mself\u001b[39m\u001b[38;5;241m.\u001b[39mindex)\u001b[38;5;241m.\u001b[39m__finalize__(\n\u001b[1;32m   4541\u001b[0m         \u001b[38;5;28mself\u001b[39m, method\u001b[38;5;241m=\u001b[39m\u001b[38;5;124m\"\u001b[39m\u001b[38;5;124mmap\u001b[39m\u001b[38;5;124m\"\u001b[39m\n\u001b[1;32m   4542\u001b[0m     )\n",
                        "File \u001b[0;32m~/itmo/recsys/project/.venv/lib/python3.10/site-packages/pandas/core/base.py:890\u001b[0m, in \u001b[0;36mIndexOpsMixin._map_values\u001b[0;34m(self, mapper, na_action)\u001b[0m\n\u001b[1;32m    887\u001b[0m         \u001b[38;5;28;01mraise\u001b[39;00m \u001b[38;5;167;01mValueError\u001b[39;00m(msg)\n\u001b[1;32m    889\u001b[0m \u001b[38;5;66;03m# mapper is a function\u001b[39;00m\n\u001b[0;32m--> 890\u001b[0m new_values \u001b[38;5;241m=\u001b[39m \u001b[43mmap_f\u001b[49m\u001b[43m(\u001b[49m\u001b[43mvalues\u001b[49m\u001b[43m,\u001b[49m\u001b[43m \u001b[49m\u001b[43mmapper\u001b[49m\u001b[43m)\u001b[49m\n\u001b[1;32m    892\u001b[0m \u001b[38;5;28;01mreturn\u001b[39;00m new_values\n",
                        "\u001b[0;31mKeyboardInterrupt\u001b[0m: "
                    ]
                }
            ],
            "source": [
                "model_metrics = []\n",
                "for model in tqdm(models, total=len(models)):\n",
                "    result = calculate_metrics(\n",
                "        interactions=interactions, metrics=metrics, model=model, splitter=splitter, k_recos=K_RECOS\n",
                "    )\n",
                "    model_metrics.extend(result)"
            ]
        },
        {
            "cell_type": "code",
            "execution_count": null,
            "id": "fa9ac30e-ffac-4682-b1f3-95e0982d1ec6",
            "metadata": {},
            "outputs": [],
            "source": [
                "visualize_metrics(model_metrics)"
            ]
        },
        {
            "cell_type": "markdown",
            "id": "f8f92f9b-de31-4f7b-be41-c43e754e376e",
            "metadata": {},
            "source": [
                "Обучим UserKnn для веб-сервиса с TFIDFRecommender как backbone"
            ]
        },
        {
            "cell_type": "code",
            "execution_count": 23,
            "id": "a7cba9aa-fbfb-4bbe-9008-e9c221acbf3b",
            "metadata": {},
            "outputs": [
                {
                    "ename": "KeyboardInterrupt",
                    "evalue": "",
                    "output_type": "error",
                    "traceback": [
                        "\u001b[0;31m---------------------------------------------------------------------------\u001b[0m",
                        "\u001b[0;31mKeyboardInterrupt\u001b[0m                         Traceback (most recent call last)",
                        "Cell \u001b[0;32mIn[23], line 2\u001b[0m\n\u001b[1;32m      1\u001b[0m model \u001b[38;5;241m=\u001b[39m UserKnn(TFIDFRecommender(), \u001b[38;5;241m50\u001b[39m)\n\u001b[0;32m----> 2\u001b[0m result \u001b[38;5;241m=\u001b[39m \u001b[43mmodel\u001b[49m\u001b[38;5;241;43m.\u001b[39;49m\u001b[43mfit\u001b[49m\u001b[43m(\u001b[49m\u001b[43minteractions_df\u001b[49m\u001b[38;5;241;43m.\u001b[39;49m\u001b[43miloc\u001b[49m\u001b[43m[\u001b[49m\u001b[38;5;241;43m0\u001b[39;49m\u001b[43m:\u001b[49m\u001b[38;5;241;43m4800000\u001b[39;49m\u001b[43m]\u001b[49m\u001b[43m)\u001b[49m\n",
                        "File \u001b[0;32m~/itmo/recsys/project/service/api/models/userknn.py:63\u001b[0m, in \u001b[0;36mUserKnn.fit\u001b[0;34m(self, train)\u001b[0m\n\u001b[1;32m     61\u001b[0m \u001b[38;5;28mself\u001b[39m\u001b[38;5;241m.\u001b[39m_user_knn \u001b[38;5;241m=\u001b[39m deepcopy(\u001b[38;5;28mself\u001b[39m\u001b[38;5;241m.\u001b[39m_model)\n\u001b[1;32m     62\u001b[0m \u001b[38;5;28mself\u001b[39m\u001b[38;5;241m.\u001b[39mget_mappings(train\u001b[38;5;241m=\u001b[39mtrain)\n\u001b[0;32m---> 63\u001b[0m \u001b[38;5;28mself\u001b[39m\u001b[38;5;241m.\u001b[39mweights_matrix \u001b[38;5;241m=\u001b[39m \u001b[38;5;28;43mself\u001b[39;49m\u001b[38;5;241;43m.\u001b[39;49m\u001b[43mget_matrix\u001b[49m\u001b[43m(\u001b[49m\u001b[43mdf\u001b[49m\u001b[38;5;241;43m=\u001b[39;49m\u001b[43mtrain\u001b[49m\u001b[43m)\u001b[49m\n\u001b[1;32m     65\u001b[0m \u001b[38;5;28mself\u001b[39m\u001b[38;5;241m.\u001b[39mn \u001b[38;5;241m=\u001b[39m train\u001b[38;5;241m.\u001b[39mshape[\u001b[38;5;241m0\u001b[39m]\n\u001b[1;32m     66\u001b[0m \u001b[38;5;28mself\u001b[39m\u001b[38;5;241m.\u001b[39m_count_item_idf(train)\n",
                        "File \u001b[0;32m~/itmo/recsys/project/service/api/models/userknn.py:42\u001b[0m, in \u001b[0;36mUserKnn.get_matrix\u001b[0;34m(self, df, user_col, item_col, weight_col)\u001b[0m\n\u001b[1;32m     38\u001b[0m \u001b[38;5;28;01melse\u001b[39;00m:\n\u001b[1;32m     39\u001b[0m     weights \u001b[38;5;241m=\u001b[39m np\u001b[38;5;241m.\u001b[39mones(\u001b[38;5;28mlen\u001b[39m(df), dtype\u001b[38;5;241m=\u001b[39mnp\u001b[38;5;241m.\u001b[39mfloat32)\n\u001b[1;32m     41\u001b[0m \u001b[38;5;28mself\u001b[39m\u001b[38;5;241m.\u001b[39minteraction_matrix \u001b[38;5;241m=\u001b[39m sp\u001b[38;5;241m.\u001b[39msparse\u001b[38;5;241m.\u001b[39mcoo_matrix(\n\u001b[0;32m---> 42\u001b[0m     (weights, (df[item_col]\u001b[38;5;241m.\u001b[39mmap(\u001b[38;5;28mself\u001b[39m\u001b[38;5;241m.\u001b[39mitems_mapping\u001b[38;5;241m.\u001b[39mget), \u001b[43mdf\u001b[49m\u001b[43m[\u001b[49m\u001b[43muser_col\u001b[49m\u001b[43m]\u001b[49m\u001b[38;5;241;43m.\u001b[39;49m\u001b[43mmap\u001b[49m\u001b[43m(\u001b[49m\u001b[38;5;28;43mself\u001b[39;49m\u001b[38;5;241;43m.\u001b[39;49m\u001b[43musers_mapping\u001b[49m\u001b[38;5;241;43m.\u001b[39;49m\u001b[43mget\u001b[49m\u001b[43m)\u001b[49m))\n\u001b[1;32m     43\u001b[0m )\n\u001b[1;32m     45\u001b[0m \u001b[38;5;28mself\u001b[39m\u001b[38;5;241m.\u001b[39mwatched \u001b[38;5;241m=\u001b[39m (\n\u001b[1;32m     46\u001b[0m     df\u001b[38;5;241m.\u001b[39mgroupby(user_col, as_index\u001b[38;5;241m=\u001b[39m\u001b[38;5;28;01mFalse\u001b[39;00m)\u001b[38;5;241m.\u001b[39magg({item_col: \u001b[38;5;28mlist\u001b[39m})\u001b[38;5;241m.\u001b[39mrename(columns\u001b[38;5;241m=\u001b[39m{user_col: \u001b[38;5;124m\"\u001b[39m\u001b[38;5;124msim_user_id\u001b[39m\u001b[38;5;124m\"\u001b[39m})\n\u001b[1;32m     47\u001b[0m )\n\u001b[1;32m     49\u001b[0m \u001b[38;5;28;01mreturn\u001b[39;00m \u001b[38;5;28mself\u001b[39m\u001b[38;5;241m.\u001b[39minteraction_matrix\n",
                        "File \u001b[0;32m~/itmo/recsys/project/.venv/lib/python3.10/site-packages/pandas/core/series.py:4539\u001b[0m, in \u001b[0;36mSeries.map\u001b[0;34m(self, arg, na_action)\u001b[0m\n\u001b[1;32m   4460\u001b[0m \u001b[38;5;28;01mdef\u001b[39;00m \u001b[38;5;21mmap\u001b[39m(\n\u001b[1;32m   4461\u001b[0m     \u001b[38;5;28mself\u001b[39m,\n\u001b[1;32m   4462\u001b[0m     arg: Callable \u001b[38;5;241m|\u001b[39m Mapping \u001b[38;5;241m|\u001b[39m Series,\n\u001b[1;32m   4463\u001b[0m     na_action: Literal[\u001b[38;5;124m\"\u001b[39m\u001b[38;5;124mignore\u001b[39m\u001b[38;5;124m\"\u001b[39m] \u001b[38;5;241m|\u001b[39m \u001b[38;5;28;01mNone\u001b[39;00m \u001b[38;5;241m=\u001b[39m \u001b[38;5;28;01mNone\u001b[39;00m,\n\u001b[1;32m   4464\u001b[0m ) \u001b[38;5;241m-\u001b[39m\u001b[38;5;241m>\u001b[39m Series:\n\u001b[1;32m   4465\u001b[0m \u001b[38;5;250m    \u001b[39m\u001b[38;5;124;03m\"\"\"\u001b[39;00m\n\u001b[1;32m   4466\u001b[0m \u001b[38;5;124;03m    Map values of Series according to an input mapping or function.\u001b[39;00m\n\u001b[1;32m   4467\u001b[0m \n\u001b[0;32m   (...)\u001b[0m\n\u001b[1;32m   4537\u001b[0m \u001b[38;5;124;03m    dtype: object\u001b[39;00m\n\u001b[1;32m   4538\u001b[0m \u001b[38;5;124;03m    \"\"\"\u001b[39;00m\n\u001b[0;32m-> 4539\u001b[0m     new_values \u001b[38;5;241m=\u001b[39m \u001b[38;5;28;43mself\u001b[39;49m\u001b[38;5;241;43m.\u001b[39;49m\u001b[43m_map_values\u001b[49m\u001b[43m(\u001b[49m\u001b[43marg\u001b[49m\u001b[43m,\u001b[49m\u001b[43m \u001b[49m\u001b[43mna_action\u001b[49m\u001b[38;5;241;43m=\u001b[39;49m\u001b[43mna_action\u001b[49m\u001b[43m)\u001b[49m\n\u001b[1;32m   4540\u001b[0m     \u001b[38;5;28;01mreturn\u001b[39;00m \u001b[38;5;28mself\u001b[39m\u001b[38;5;241m.\u001b[39m_constructor(new_values, index\u001b[38;5;241m=\u001b[39m\u001b[38;5;28mself\u001b[39m\u001b[38;5;241m.\u001b[39mindex)\u001b[38;5;241m.\u001b[39m__finalize__(\n\u001b[1;32m   4541\u001b[0m         \u001b[38;5;28mself\u001b[39m, method\u001b[38;5;241m=\u001b[39m\u001b[38;5;124m\"\u001b[39m\u001b[38;5;124mmap\u001b[39m\u001b[38;5;124m\"\u001b[39m\n\u001b[1;32m   4542\u001b[0m     )\n",
                        "File \u001b[0;32m~/itmo/recsys/project/.venv/lib/python3.10/site-packages/pandas/core/base.py:890\u001b[0m, in \u001b[0;36mIndexOpsMixin._map_values\u001b[0;34m(self, mapper, na_action)\u001b[0m\n\u001b[1;32m    887\u001b[0m         \u001b[38;5;28;01mraise\u001b[39;00m \u001b[38;5;167;01mValueError\u001b[39;00m(msg)\n\u001b[1;32m    889\u001b[0m \u001b[38;5;66;03m# mapper is a function\u001b[39;00m\n\u001b[0;32m--> 890\u001b[0m new_values \u001b[38;5;241m=\u001b[39m \u001b[43mmap_f\u001b[49m\u001b[43m(\u001b[49m\u001b[43mvalues\u001b[49m\u001b[43m,\u001b[49m\u001b[43m \u001b[49m\u001b[43mmapper\u001b[49m\u001b[43m)\u001b[49m\n\u001b[1;32m    892\u001b[0m \u001b[38;5;28;01mreturn\u001b[39;00m new_values\n",
                        "File \u001b[0;32m~/itmo/recsys/project/.venv/lib/python3.10/site-packages/pandas/_libs/lib.pyx:2933\u001b[0m, in \u001b[0;36mpandas._libs.lib.map_infer\u001b[0;34m()\u001b[0m\n",
                        "File \u001b[0;32m~/itmo/recsys/project/.venv/lib/python3.10/site-packages/pandas/_libs/lib.pyx:2515\u001b[0m, in \u001b[0;36mpandas._libs.lib.maybe_convert_objects\u001b[0;34m()\u001b[0m\n",
                        "File \u001b[0;32m~/itmo/recsys/project/.venv/lib/python3.10/site-packages/numpy/core/numeric.py:274\u001b[0m, in \u001b[0;36mfull\u001b[0;34m(shape, fill_value, dtype, order, like)\u001b[0m\n\u001b[1;32m    270\u001b[0m \u001b[38;5;28;01mdef\u001b[39;00m \u001b[38;5;21m_full_dispatcher\u001b[39m(shape, fill_value, dtype\u001b[38;5;241m=\u001b[39m\u001b[38;5;28;01mNone\u001b[39;00m, order\u001b[38;5;241m=\u001b[39m\u001b[38;5;28;01mNone\u001b[39;00m, \u001b[38;5;241m*\u001b[39m, like\u001b[38;5;241m=\u001b[39m\u001b[38;5;28;01mNone\u001b[39;00m):\n\u001b[1;32m    271\u001b[0m     \u001b[38;5;28;01mreturn\u001b[39;00m(like,)\n\u001b[0;32m--> 274\u001b[0m \u001b[38;5;129m@set_array_function_like_doc\u001b[39m\n\u001b[1;32m    275\u001b[0m \u001b[38;5;129m@set_module\u001b[39m(\u001b[38;5;124m'\u001b[39m\u001b[38;5;124mnumpy\u001b[39m\u001b[38;5;124m'\u001b[39m)\n\u001b[1;32m    276\u001b[0m \u001b[38;5;28;01mdef\u001b[39;00m \u001b[38;5;21mfull\u001b[39m(shape, fill_value, dtype\u001b[38;5;241m=\u001b[39m\u001b[38;5;28;01mNone\u001b[39;00m, order\u001b[38;5;241m=\u001b[39m\u001b[38;5;124m'\u001b[39m\u001b[38;5;124mC\u001b[39m\u001b[38;5;124m'\u001b[39m, \u001b[38;5;241m*\u001b[39m, like\u001b[38;5;241m=\u001b[39m\u001b[38;5;28;01mNone\u001b[39;00m):\n\u001b[1;32m    277\u001b[0m \u001b[38;5;250m    \u001b[39m\u001b[38;5;124;03m\"\"\"\u001b[39;00m\n\u001b[1;32m    278\u001b[0m \u001b[38;5;124;03m    Return a new array of given shape and type, filled with `fill_value`.\u001b[39;00m\n\u001b[1;32m    279\u001b[0m \n\u001b[0;32m   (...)\u001b[0m\n\u001b[1;32m    320\u001b[0m \n\u001b[1;32m    321\u001b[0m \u001b[38;5;124;03m    \"\"\"\u001b[39;00m\n\u001b[1;32m    322\u001b[0m     \u001b[38;5;28;01mif\u001b[39;00m like \u001b[38;5;129;01mis\u001b[39;00m \u001b[38;5;129;01mnot\u001b[39;00m \u001b[38;5;28;01mNone\u001b[39;00m:\n",
                        "\u001b[0;31mKeyboardInterrupt\u001b[0m: "
                    ]
                }
            ],
            "source": [
                "model = UserKnn(TFIDFRecommender(), 50)\n",
                "result = model.fit(interactions_df)"
            ]
        },
        {
            "cell_type": "markdown",
            "id": "38ba996c-e2d4-4671-ac7b-496099d41f5e",
            "metadata": {},
            "source": [
                "Сохраним модель в файл для дальнейшего использования"
            ]
        },
        {
            "cell_type": "code",
            "execution_count": null,
            "id": "e2f722e9-d922-429b-8b75-83937bcaeaa2",
            "metadata": {},
            "outputs": [],
            "source": [
                "pickle.dump(model, open(MODEL_PATH, \"wb\"))"
            ]
        }
    ],
    "metadata": {
        "kernelspec": {
            "display_name": "Python 3 (ipykernel)",
            "language": "python",
            "name": "python3"
        },
        "language_info": {
            "codemirror_mode": {
                "name": "ipython",
                "version": 3
            },
            "file_extension": ".py",
            "mimetype": "text/x-python",
            "name": "python",
            "nbconvert_exporter": "python",
            "pygments_lexer": "ipython3",
            "version": "3.10.12"
        }
    },
    "nbformat": 4,
    "nbformat_minor": 5
}
