{
 "cells": [
  {
   "cell_type": "code",
   "execution_count": 25,
   "id": "c3831ea5-5c8c-468c-97dd-cc0a115b9e55",
   "metadata": {
    "id": "c3831ea5-5c8c-468c-97dd-cc0a115b9e55"
   },
   "outputs": [],
   "source": [
    "import os\n",
    "import pickle\n",
    "import random\n",
    "import time\n",
    "import zipfile as zf\n",
    "from copy import deepcopy\n",
    "from functools import partial\n",
    "from typing import Any, Dict, Sequence\n",
    "\n",
    "import implicit\n",
    "import ngtpy\n",
    "import numpy as np\n",
    "import optuna\n",
    "import pandas as pd\n",
    "import requests\n",
    "from implicit.cpu.als import AlternatingLeastSquares\n",
    "from lightfm import LightFM\n",
    "from service.api.models.ngt_recommender import UserToItemNGTRecommender\n",
    "from optuna.samplers import TPESampler\n",
    "from rectools import Columns\n",
    "from rectools.dataset import Dataset\n",
    "from rectools.metrics import MAP, calc_metrics\n",
    "from rectools.metrics.base import MetricAtK\n",
    "from rectools.models import ImplicitALSWrapperModel, LightFMWrapperModel\n",
    "from rectools.tools import UserToItemAnnRecommender\n",
    "from tqdm import tqdm\n",
    "from helpers.unpickler import load"
   ]
  },
  {
   "cell_type": "code",
   "execution_count": 26,
   "id": "32934aa9-6d33-41df-94de-2c0031a190d3",
   "metadata": {
    "id": "32934aa9-6d33-41df-94de-2c0031a190d3"
   },
   "outputs": [],
   "source": [
    "os.environ[\"OPENBLAS_NUM_THREADS\"] = \"1\"  # For implicit ALS"
   ]
  },
  {
   "cell_type": "code",
   "execution_count": 27,
   "id": "487a1265-f383-4b8b-9eae-ed46a34a37b6",
   "metadata": {
    "id": "487a1265-f383-4b8b-9eae-ed46a34a37b6"
   },
   "outputs": [],
   "source": [
    "RANDOM_STATE = 42\n",
    "random.seed(RANDOM_STATE)\n",
    "os.environ[\"PYTHONHASHSEED\"] = str(RANDOM_STATE)\n",
    "np.random.seed(RANDOM_STATE)"
   ]
  },
  {
   "cell_type": "code",
   "execution_count": 28,
   "id": "f75f1e6e-1dcb-437b-9a9b-95185da3c29f",
   "metadata": {
    "id": "f75f1e6e-1dcb-437b-9a9b-95185da3c29f"
   },
   "outputs": [],
   "source": [
    "LIGHTFM_MODEL_PATH = \"weights/lightfm.pkl\"\n",
    "ALS_MODEL_PATH = \"weights/als.pkl\"\n",
    "ANN_MODEL_PATH = \"weights/ann.pkl\"\n",
    "K_RECOS = 10\n",
    "N_EPOCHS = 1  # Lightfm"
   ]
  },
  {
   "cell_type": "markdown",
   "id": "beb78b58-4810-49c6-a7fe-71af1d5cde49",
   "metadata": {
    "id": "beb78b58-4810-49c6-a7fe-71af1d5cde49"
   },
   "source": [
    "## Инициализация датасета"
   ]
  },
  {
   "cell_type": "code",
   "execution_count": 29,
   "id": "b35c123d-dbea-4fb1-8e71-3e84a825532b",
   "metadata": {
    "id": "b35c123d-dbea-4fb1-8e71-3e84a825532b"
   },
   "outputs": [],
   "source": [
    "users = pd.read_csv(\"kion_train/users.csv\")\n",
    "items = pd.read_csv(\"kion_train/items.csv\")\n",
    "interactions_df = pd.read_csv(\"kion_train/interactions.csv\", parse_dates=[\"last_watch_dt\"])"
   ]
  },
  {
   "cell_type": "markdown",
   "id": "9f5a5548-a5e1-426a-abf7-6df5712b99e8",
   "metadata": {
    "id": "9f5a5548-a5e1-426a-abf7-6df5712b99e8"
   },
   "source": [
    "Берем препроцессинг данных из лекции"
   ]
  },
  {
   "cell_type": "code",
   "execution_count": 30,
   "id": "6d393164-b0d3-4b8c-aeeb-a2ea7f54d6ac",
   "metadata": {
    "id": "6d393164-b0d3-4b8c-aeeb-a2ea7f54d6ac"
   },
   "outputs": [],
   "source": [
    "Columns.Datetime = \"last_watch_dt\"\n",
    "\n",
    "interactions_df[Columns.Datetime] = pd.to_datetime(interactions_df[Columns.Datetime], format=\"%Y-%m-%d\")\n",
    "max_date = interactions_df[Columns.Datetime].max()\n",
    "interactions_df[Columns.Weight] = np.where(interactions_df[\"watched_pct\"] > 10, 3, 1)"
   ]
  },
  {
   "cell_type": "code",
   "execution_count": 31,
   "id": "0bf42c8c-dbbf-42e6-89e4-771675084b53",
   "metadata": {
    "colab": {
     "base_uri": "https://localhost:8080/"
    },
    "id": "0bf42c8c-dbbf-42e6-89e4-771675084b53",
    "outputId": "48aca420-9d9e-41e4-9198-98cdc80ffff1"
   },
   "outputs": [
    {
     "name": "stdout",
     "output_type": "stream",
     "text": [
      "train: (4985269, 6)\n",
      "test: (490982, 6)\n"
     ]
    }
   ],
   "source": [
    "max_date = interactions_df[Columns.Datetime].max()\n",
    "train = interactions_df[interactions_df[Columns.Datetime] < max_date - pd.Timedelta(days=7)].copy()\n",
    "test = interactions_df[interactions_df[Columns.Datetime] >= max_date - pd.Timedelta(days=7)].copy()\n",
    "\n",
    "print(f\"train: {train.shape}\")\n",
    "print(f\"test: {test.shape}\")"
   ]
  },
  {
   "cell_type": "code",
   "execution_count": 32,
   "id": "7b380326-9a7a-4005-af51-7cbd7b1ac7ed",
   "metadata": {
    "id": "7b380326-9a7a-4005-af51-7cbd7b1ac7ed"
   },
   "outputs": [],
   "source": [
    "train.drop(train.query(\"total_dur < 300\").index, inplace=True)"
   ]
  },
  {
   "cell_type": "code",
   "execution_count": 33,
   "id": "07aea4ee-4d3f-4bfe-8f4d-adf3c10df7d2",
   "metadata": {
    "id": "07aea4ee-4d3f-4bfe-8f4d-adf3c10df7d2"
   },
   "outputs": [],
   "source": [
    "cold_users = set(test[Columns.User]) - set(train[Columns.User])\n",
    "test.drop(test[test[Columns.User].isin(cold_users)].index, inplace=True)"
   ]
  },
  {
   "cell_type": "markdown",
   "id": "e964646e-db1e-45d4-ad1c-8201bdb8d30a",
   "metadata": {
    "id": "e964646e-db1e-45d4-ad1c-8201bdb8d30a"
   },
   "source": [
    "Напишем функции, которые будут доставать фичи из датасета для пользователя и айтема"
   ]
  },
  {
   "cell_type": "code",
   "execution_count": 34,
   "id": "7995c89f-dab8-4e7b-bea8-7693071658d1",
   "metadata": {
    "id": "7995c89f-dab8-4e7b-bea8-7693071658d1"
   },
   "outputs": [],
   "source": [
    "def get_users_features(users: pd.DataFrame, interactions: pd.DataFrame, features: Sequence[str]) -> pd.DataFrame:\n",
    "    users.fillna(\"Unknown\", inplace=True)\n",
    "    users = users.loc[users[Columns.User].isin(interactions[Columns.User])].copy()\n",
    "    user_features_frames = []\n",
    "    for feature in features:\n",
    "        feature_frame = users.reindex(columns=[Columns.User, feature])\n",
    "        feature_frame.columns = [\"id\", \"value\"]\n",
    "        feature_frame[\"feature\"] = feature\n",
    "        user_features_frames.append(feature_frame)\n",
    "    user_features = pd.concat(user_features_frames)\n",
    "    return user_features"
   ]
  },
  {
   "cell_type": "code",
   "execution_count": 35,
   "id": "7b4ec778-23ba-4198-9113-bb5292604c74",
   "metadata": {
    "id": "7b4ec778-23ba-4198-9113-bb5292604c74"
   },
   "outputs": [],
   "source": [
    "features = [\"sex\", \"age\", \"income\"]\n",
    "user_features = get_users_features(users=users, interactions=train, features=features)"
   ]
  },
  {
   "cell_type": "code",
   "execution_count": 36,
   "id": "ece251dd-28bc-48dc-a8ab-f8bdd5a70119",
   "metadata": {
    "id": "ece251dd-28bc-48dc-a8ab-f8bdd5a70119"
   },
   "outputs": [],
   "source": [
    "def get_items_features(items: pd.DataFrame, interactions: pd.DataFrame, features: Sequence[str]) -> pd.DataFrame:\n",
    "    items = items.loc[items[Columns.Item].isin(interactions[Columns.Item])].copy()\n",
    "    items[\"genre\"] = items[\"genres\"].str.lower().str.replace(\", \", \",\", regex=False).str.split(\",\")\n",
    "    item_features_frames = []\n",
    "    for feature in features:\n",
    "        feature_frame = items[[\"item_id\", feature]].explode(feature)\n",
    "        feature_frame.columns = [\"id\", \"value\"]\n",
    "        feature_frame[\"feature\"] = feature\n",
    "        content_feature = items.reindex(columns=[Columns.Item, \"content_type\"])\n",
    "        content_feature.columns = [\"id\", \"value\"]\n",
    "        content_feature[\"feature\"] = \"content_type\"\n",
    "        item_features_frames.append(pd.concat((feature_frame, content_feature)))\n",
    "    item_features = pd.concat(item_features_frames)\n",
    "    return item_features"
   ]
  },
  {
   "cell_type": "code",
   "execution_count": 37,
   "id": "98f397f0-85b5-46c5-ae7b-a9fdf40d6751",
   "metadata": {
    "id": "98f397f0-85b5-46c5-ae7b-a9fdf40d6751"
   },
   "outputs": [],
   "source": [
    "features = [\"genre\"]\n",
    "item_features = get_items_features(items=items, interactions=train, features=features)"
   ]
  },
  {
   "cell_type": "markdown",
   "id": "ce84c56e-deca-4ff2-813b-ec9a576d8cc5",
   "metadata": {
    "id": "ce84c56e-deca-4ff2-813b-ec9a576d8cc5"
   },
   "source": [
    "## Эксперименты"
   ]
  },
  {
   "cell_type": "markdown",
   "id": "2cd514ed-e1db-4eec-a2d2-5991141c5585",
   "metadata": {
    "id": "2cd514ed-e1db-4eec-a2d2-5991141c5585"
   },
   "source": [
    "Реализуем тюнинг гиперпараметров для моделей из implicit, lightfm или rectools"
   ]
  },
  {
   "cell_type": "markdown",
   "id": "47f3560f-4b20-498f-a3b3-8db29b98b9f4",
   "metadata": {
    "id": "47f3560f-4b20-498f-a3b3-8db29b98b9f4"
   },
   "source": [
    "Подготовим датасет, инициализируем метрики"
   ]
  },
  {
   "cell_type": "code",
   "execution_count": 38,
   "id": "300c6b7d-571e-4dd0-8389-6c176a5cff50",
   "metadata": {
    "id": "300c6b7d-571e-4dd0-8389-6c176a5cff50"
   },
   "outputs": [],
   "source": [
    "dataset = Dataset.construct(\n",
    "    interactions_df=train,\n",
    "    user_features_df=user_features,\n",
    "    cat_user_features=[\"sex\", \"age\", \"income\"],\n",
    "    item_features_df=item_features,\n",
    "    cat_item_features=[\"genre\", \"content_type\"],\n",
    ")"
   ]
  },
  {
   "cell_type": "code",
   "execution_count": 39,
   "id": "9fba5c7a-9aaa-4325-bc9e-a708095f403b",
   "metadata": {
    "id": "9fba5c7a-9aaa-4325-bc9e-a708095f403b"
   },
   "outputs": [],
   "source": [
    "TEST_USERS = test[Columns.User].unique()"
   ]
  },
  {
   "cell_type": "code",
   "execution_count": 40,
   "id": "99402d9a-27b2-4895-ab3e-6150b3423ed2",
   "metadata": {
    "id": "99402d9a-27b2-4895-ab3e-6150b3423ed2"
   },
   "outputs": [],
   "source": [
    "metrics: Dict[str, MetricAtK] = {\"top@10_map\": MAP(k=10)}"
   ]
  },
  {
   "cell_type": "markdown",
   "id": "a6d2b86b-48f0-4e38-a39f-4a59ec75e056",
   "metadata": {
    "id": "a6d2b86b-48f0-4e38-a39f-4a59ec75e056"
   },
   "source": [
    "Для перебора используем оптуну"
   ]
  },
  {
   "cell_type": "code",
   "execution_count": 41,
   "id": "a5a89789-e816-4213-a4f7-fcbc0d72b360",
   "metadata": {
    "id": "a5a89789-e816-4213-a4f7-fcbc0d72b360"
   },
   "outputs": [],
   "source": [
    "def train_model(\n",
    "    metrics: Dict[str, MetricAtK], model: Any, dataset: Dataset, train: pd.DataFrame, test: pd.DataFrame\n",
    ") -> float:\n",
    "    model.fit(dataset)\n",
    "    recos = model.recommend(users=TEST_USERS, dataset=dataset, k=K_RECOS, filter_viewed=True)\n",
    "    metrics_result = calc_metrics(metrics, recos, test, train)\n",
    "    return metrics_result[\"top@10_map\"]"
   ]
  },
  {
   "cell_type": "code",
   "execution_count": 42,
   "id": "c674e83f-507d-4955-a343-7d5f57a18a5d",
   "metadata": {
    "id": "c674e83f-507d-4955-a343-7d5f57a18a5d"
   },
   "outputs": [],
   "source": [
    "def objective_als(trial, dataset: Dataset, train: pd.DataFrame, test: pd.DataFrame, metrics: dict[str, MetricAtK]):\n",
    "    n_factors = trial.suggest_categorical(\"n_factors\", [8, 16, 24])\n",
    "    is_fit_features_together = trial.suggest_categorical(\"is_fit_features_together\", [True, False])\n",
    "    regularization = trial.suggest_float(\"regularization\", 0.01, 0.05)\n",
    "    iterations = trial.suggest_int(\"iterations\", 10, 20)\n",
    "\n",
    "    model = ImplicitALSWrapperModel(\n",
    "        AlternatingLeastSquares(\n",
    "            factors=n_factors, regularization=regularization, iterations=iterations, random_state=RANDOM_STATE\n",
    "        ),\n",
    "        fit_features_together=is_fit_features_together,\n",
    "    )\n",
    "\n",
    "    metric = train_model(metrics=deepcopy(metrics), model=deepcopy(model), dataset=dataset, train=train, test=test)\n",
    "    return metric"
   ]
  },
  {
   "cell_type": "code",
   "execution_count": 43,
   "id": "2212cf17-8181-4b12-8b35-5d0b38eaf648",
   "metadata": {
    "colab": {
     "base_uri": "https://localhost:8080/",
     "height": 605,
     "referenced_widgets": [
      "ffa878e59e04416395ddad842a4dff38",
      "210e7b43dae34838a0e449099003661e",
      "3d9fdb43984645a5ac95acc93d2e5019",
      "a6d344766e724cc2adde44ed156a99e3",
      "adbc32fb72524b8891a5e759f64eeffa",
      "e5162a30d2d54246be838b2b73ea528d",
      "489bbe3607b740e2b5c663a5983a07fb",
      "e0803b66b67e477292174af01ab22398",
      "f3fe42a3ee254e36aab3c502f3b72bbc",
      "9ebe6bbe889b4f9e9fd58a7553b08d45",
      "df1b5353c28f478fb7bfee20bdd2983e",
      "059464415b5c4e80b385c78b85b78e0e",
      "4ae1451550524c24b1d2f574735f54c5",
      "65766ae30dfe43158861d614bdde793a",
      "980917a641d04b3bb19280d166413b61",
      "8a2d02bc1706449c895de0ae4e85da1c",
      "3d5421e579e6451a864b92031b35518b",
      "10abc933db9645a4af81f7578985ffd6",
      "a1981e8c12e34151a7ae1d3f2d1ff6ee",
      "09a8bf9fcf6546f5b5a18f32e3e0e32c",
      "912eb391efa64faa9f82939ca9dfe713",
      "172dba28011045ffad6d332af5fa5fa7",
      "b702d0027ef74b1ab149e090e5fcb14d",
      "5470802862ee4b17b3a7f67171191241",
      "815e58cbd97f4c88b41cc12521b933d1",
      "839cfead3c694ac3877284f97e9f8f26",
      "de786e5ca95b44ff812ac51383a87842",
      "7b5dd42ad85149d49c564407b6c559ba",
      "22008bca75ea4f4fa2215cf35ca3e937",
      "547bb23041604217b7bd4e8e1558cab9",
      "3ee0f34d2ed942cd84361fe9489622ec",
      "766aa67bd4d64a1d819e7aeed0fc78bc",
      "29e07d7449c54003886c1a76a7a825b7",
      "01bc06acb295402e90a3aadd234d961a",
      "357fa023d92e4c12981706208237c1d3",
      "39ddc42c81e24884a84650d4c1ca8e0b",
      "6e2be42af44a4ee29a4b9e338cff8bce",
      "614e4f051eb345c5a6a6c7814a92bf27",
      "a330531b139143ca80e0e574d79667a4",
      "37a83827c5ed4acca55010d49a0945e5",
      "f6f421833284422eb341bde7a23aa084",
      "2079462d1f5843d693f8d802e885a941",
      "ec436c6536d94e868980223f75b55ee7",
      "5cb79d4e8860464799a5e76d977c9220",
      "88d417193eab4c4c873d98171c16a4c2",
      "c42095908ff341c8af69500273a3c223",
      "98fefecf8aaf417cad46639dbf446fa8",
      "22c35d47e7ca4e769766cd243f7f1954",
      "99ebf7e51f4249aebf90710c25591a43",
      "3cad34d74f2c469e8ba9ccf085bd7651",
      "27bce7ed790245e194450f29a2734ce6",
      "bf721946745f421a9f85c0c6c5ccffef",
      "3489efddb44f40f09e12fc7530466990",
      "da2e434757e6440b8f5ac0739ea88a29",
      "058f609463a84e9aab75efd2df77f167",
      "d448124782b54432b9b7274e3bf78c01",
      "b7d8843fe8c04435848f0bf958e2b411",
      "adce4de9637948ad8710274719f35bd4",
      "1639be6dfaff4b799594484d9f4a440a",
      "bacf2cbcc23046abbe974e0f8c5c0979",
      "e18ce856d88442f8a8a1de7b34ef9ea8",
      "21ab079875fd483cabbd4d2501e019ce",
      "d89269d16f474717b595e3551803946b",
      "146e118caa974a26a260e0f8baba3b6a",
      "33242851222940dfa290a1f9494027ae",
      "714097c87a7141f1be256ec879f065e8",
      "7807adb515a14de99895c3dff3a28146",
      "31f73ed446324cac8e9e19325cb101c5",
      "3af734b8d5a543fb9a0eebef8cb0f5f5",
      "7341e1ccbaa842f69e0f34c68eb24654",
      "5827a5ca9dbf41808995d4b25eb4a111",
      "6dba086cb4ae431c907ffebfe7efa588",
      "fc537438348a48ba95888953f3cbde8f",
      "180ea131d0394a1d9cbdd0f360ff7609",
      "ce04a1959f5c4ca99ed94b2107b9eb86",
      "feb2c63c6013485fa746460b91afc9cd",
      "ade5f54fa00e400a8864ba05f4b63ce6",
      "c5cc621184044acba3317a926b979502",
      "3759593097ff4ecdb6a86c56b8027281",
      "38abb82854fe4748a6fb2c6fc50bd7ef",
      "a0b4ce5c988041d0a035308366fc50cf",
      "1d2af328d1144a889a787004571e1e63",
      "c360dcd97637430ca3c73ff95757ddf9",
      "9f3cafa11cc149a6988ce74ad3bd743c",
      "a1373d274b7b41abbf433d78624bf7cd",
      "4064f69403f24549afd1958a83b30765",
      "4b81faa47eb04ccb9dbc33ec2fb98d23",
      "d3585db99d234f70a70dbe2c2c596ceb"
     ]
    },
    "id": "2212cf17-8181-4b12-8b35-5d0b38eaf648",
    "outputId": "b8e55c2c-236a-4ed7-a96b-6cc0c9e9467a"
   },
   "outputs": [
    {
     "name": "stderr",
     "output_type": "stream",
     "text": [
      "[I 2024-03-14 16:18:00,977] A new study created in memory with name: als\n",
      "/home/robert/itmo/recsys/project/.venv/lib/python3.10/site-packages/implicit/cpu/als.py:95: RuntimeWarning: OpenBLAS is configured to use 8 threads. It is highly recommended to disable its internal threadpool by setting the environment variable 'OPENBLAS_NUM_THREADS=1' or by calling 'threadpoolctl.threadpool_limits(1, \"blas\")'. Having OpenBLAS use a threadpool can lead to severe performance issues here.\n",
      "  check_blas_config()\n",
      "/home/robert/itmo/recsys/project/.venv/lib/python3.10/site-packages/rectools/dataset/features.py:420: UserWarning: Converting sparse features to dense array may cause MemoryError\n",
      "  warnings.warn(\"Converting sparse features to dense array may cause MemoryError\")\n",
      "[I 2024-03-14 16:21:54,982] Trial 0 finished with value: 0.0775586521799298 and parameters: {'n_factors': 16, 'is_fit_features_together': True, 'regularization': 0.016239780813448106, 'iterations': 10}. Best is trial 0 with value: 0.0775586521799298.\n",
      "/home/robert/itmo/recsys/project/.venv/lib/python3.10/site-packages/rectools/dataset/features.py:420: UserWarning: Converting sparse features to dense array may cause MemoryError\n",
      "  warnings.warn(\"Converting sparse features to dense array may cause MemoryError\")\n"
     ]
    },
    {
     "data": {
      "application/vnd.jupyter.widget-view+json": {
       "model_id": "895e7fe24e654e8ea76979f85d8c8434",
       "version_major": 2,
       "version_minor": 0
      },
      "text/plain": [
       "  0%|          | 0/1 [00:00<?, ?it/s]"
      ]
     },
     "metadata": {},
     "output_type": "display_data"
    },
    {
     "data": {
      "application/vnd.jupyter.widget-view+json": {
       "model_id": "486ea755a41c4110a6d2f8b3e75cc870",
       "version_major": 2,
       "version_minor": 0
      },
      "text/plain": [
       "  0%|          | 0/1 [00:00<?, ?it/s]"
      ]
     },
     "metadata": {},
     "output_type": "display_data"
    },
    {
     "name": "stderr",
     "output_type": "stream",
     "text": [
      "[I 2024-03-14 16:23:40,346] Trial 1 finished with value: 0.06856527808499813 and parameters: {'n_factors': 8, 'is_fit_features_together': False, 'regularization': 0.043297705632016875, 'iterations': 12}. Best is trial 0 with value: 0.0775586521799298.\n",
      "/home/robert/itmo/recsys/project/.venv/lib/python3.10/site-packages/rectools/dataset/features.py:420: UserWarning: Converting sparse features to dense array may cause MemoryError\n",
      "  warnings.warn(\"Converting sparse features to dense array may cause MemoryError\")\n",
      "[I 2024-03-14 16:30:49,523] Trial 2 finished with value: 0.07490387743774121 and parameters: {'n_factors': 24, 'is_fit_features_together': True, 'regularization': 0.021649165607921676, 'iterations': 16}. Best is trial 0 with value: 0.0775586521799298.\n",
      "/home/robert/itmo/recsys/project/.venv/lib/python3.10/site-packages/rectools/dataset/features.py:420: UserWarning: Converting sparse features to dense array may cause MemoryError\n",
      "  warnings.warn(\"Converting sparse features to dense array may cause MemoryError\")\n"
     ]
    },
    {
     "data": {
      "application/vnd.jupyter.widget-view+json": {
       "model_id": "5000c5e27f784a169d39f29246366eac",
       "version_major": 2,
       "version_minor": 0
      },
      "text/plain": [
       "  0%|          | 0/1 [00:00<?, ?it/s]"
      ]
     },
     "metadata": {},
     "output_type": "display_data"
    },
    {
     "data": {
      "application/vnd.jupyter.widget-view+json": {
       "model_id": "4c058e69bf8a4de1bc5753aad042d4d7",
       "version_major": 2,
       "version_minor": 0
      },
      "text/plain": [
       "  0%|          | 0/1 [00:00<?, ?it/s]"
      ]
     },
     "metadata": {},
     "output_type": "display_data"
    },
    {
     "name": "stderr",
     "output_type": "stream",
     "text": [
      "[I 2024-03-14 16:33:42,234] Trial 3 finished with value: 0.06345516351672575 and parameters: {'n_factors': 24, 'is_fit_features_together': False, 'regularization': 0.017986951286334388, 'iterations': 15}. Best is trial 0 with value: 0.0775586521799298.\n",
      "/home/robert/itmo/recsys/project/.venv/lib/python3.10/site-packages/rectools/dataset/features.py:420: UserWarning: Converting sparse features to dense array may cause MemoryError\n",
      "  warnings.warn(\"Converting sparse features to dense array may cause MemoryError\")\n",
      "[I 2024-03-14 16:42:29,602] Trial 4 finished with value: 0.07454054440755971 and parameters: {'n_factors': 24, 'is_fit_features_together': True, 'regularization': 0.047955421490133335, 'iterations': 20}. Best is trial 0 with value: 0.0775586521799298.\n",
      "/home/robert/itmo/recsys/project/.venv/lib/python3.10/site-packages/rectools/dataset/features.py:420: UserWarning: Converting sparse features to dense array may cause MemoryError\n",
      "  warnings.warn(\"Converting sparse features to dense array may cause MemoryError\")\n",
      "[I 2024-03-14 16:48:47,260] Trial 5 finished with value: 0.07361058791494281 and parameters: {'n_factors': 8, 'is_fit_features_together': True, 'regularization': 0.014881529393791153, 'iterations': 15}. Best is trial 0 with value: 0.0775586521799298.\n",
      "/home/robert/itmo/recsys/project/.venv/lib/python3.10/site-packages/rectools/dataset/features.py:420: UserWarning: Converting sparse features to dense array may cause MemoryError\n",
      "  warnings.warn(\"Converting sparse features to dense array may cause MemoryError\")\n",
      "[I 2024-03-14 16:55:34,803] Trial 6 finished with value: 0.07505238098721541 and parameters: {'n_factors': 16, 'is_fit_features_together': True, 'regularization': 0.030802720847112434, 'iterations': 16}. Best is trial 0 with value: 0.0775586521799298.\n",
      "/home/robert/itmo/recsys/project/.venv/lib/python3.10/site-packages/rectools/dataset/features.py:420: UserWarning: Converting sparse features to dense array may cause MemoryError\n",
      "  warnings.warn(\"Converting sparse features to dense array may cause MemoryError\")\n",
      "[I 2024-03-14 17:03:49,781] Trial 7 finished with value: 0.07391524290436002 and parameters: {'n_factors': 16, 'is_fit_features_together': True, 'regularization': 0.03391599915244341, 'iterations': 20}. Best is trial 0 with value: 0.0775586521799298.\n",
      "/home/robert/itmo/recsys/project/.venv/lib/python3.10/site-packages/rectools/dataset/features.py:420: UserWarning: Converting sparse features to dense array may cause MemoryError\n",
      "  warnings.warn(\"Converting sparse features to dense array may cause MemoryError\")\n"
     ]
    },
    {
     "data": {
      "application/vnd.jupyter.widget-view+json": {
       "model_id": "9582e6c65fba426bb75a69b5a3a6ba8c",
       "version_major": 2,
       "version_minor": 0
      },
      "text/plain": [
       "  0%|          | 0/1 [00:00<?, ?it/s]"
      ]
     },
     "metadata": {},
     "output_type": "display_data"
    },
    {
     "data": {
      "application/vnd.jupyter.widget-view+json": {
       "model_id": "3daea81dc26b48f4bf690462089a13a9",
       "version_major": 2,
       "version_minor": 0
      },
      "text/plain": [
       "  0%|          | 0/1 [00:00<?, ?it/s]"
      ]
     },
     "metadata": {},
     "output_type": "display_data"
    },
    {
     "name": "stderr",
     "output_type": "stream",
     "text": [
      "[I 2024-03-14 17:06:22,876] Trial 8 finished with value: 0.06289798557198906 and parameters: {'n_factors': 16, 'is_fit_features_together': False, 'regularization': 0.02085396127095584, 'iterations': 19}. Best is trial 0 with value: 0.0775586521799298.\n",
      "/home/robert/itmo/recsys/project/.venv/lib/python3.10/site-packages/rectools/dataset/features.py:420: UserWarning: Converting sparse features to dense array may cause MemoryError\n",
      "  warnings.warn(\"Converting sparse features to dense array may cause MemoryError\")\n"
     ]
    },
    {
     "data": {
      "application/vnd.jupyter.widget-view+json": {
       "model_id": "32518d84064344de9e9a22c0ea040eba",
       "version_major": 2,
       "version_minor": 0
      },
      "text/plain": [
       "  0%|          | 0/1 [00:00<?, ?it/s]"
      ]
     },
     "metadata": {},
     "output_type": "display_data"
    },
    {
     "data": {
      "application/vnd.jupyter.widget-view+json": {
       "model_id": "d409c31ff6a1403f969d97ba972c1bda",
       "version_major": 2,
       "version_minor": 0
      },
      "text/plain": [
       "  0%|          | 0/1 [00:00<?, ?it/s]"
      ]
     },
     "metadata": {},
     "output_type": "display_data"
    },
    {
     "name": "stderr",
     "output_type": "stream",
     "text": [
      "[I 2024-03-14 17:09:53,618] Trial 9 finished with value: 0.06331688264310638 and parameters: {'n_factors': 24, 'is_fit_features_together': False, 'regularization': 0.012982025747190833, 'iterations': 20}. Best is trial 0 with value: 0.0775586521799298.\n",
      "/home/robert/itmo/recsys/project/.venv/lib/python3.10/site-packages/rectools/dataset/features.py:420: UserWarning: Converting sparse features to dense array may cause MemoryError\n",
      "  warnings.warn(\"Converting sparse features to dense array may cause MemoryError\")\n",
      "[I 2024-03-14 17:14:23,325] Trial 10 finished with value: 0.0774265426978049 and parameters: {'n_factors': 16, 'is_fit_features_together': True, 'regularization': 0.01030189277265172, 'iterations': 10}. Best is trial 0 with value: 0.0775586521799298.\n",
      "/home/robert/itmo/recsys/project/.venv/lib/python3.10/site-packages/rectools/dataset/features.py:420: UserWarning: Converting sparse features to dense array may cause MemoryError\n",
      "  warnings.warn(\"Converting sparse features to dense array may cause MemoryError\")\n",
      "[I 2024-03-14 17:18:47,667] Trial 11 finished with value: 0.0775670060710807 and parameters: {'n_factors': 16, 'is_fit_features_together': True, 'regularization': 0.010590487806503946, 'iterations': 10}. Best is trial 11 with value: 0.0775670060710807.\n",
      "/home/robert/itmo/recsys/project/.venv/lib/python3.10/site-packages/rectools/dataset/features.py:420: UserWarning: Converting sparse features to dense array may cause MemoryError\n",
      "  warnings.warn(\"Converting sparse features to dense array may cause MemoryError\")\n",
      "[I 2024-03-14 17:23:15,041] Trial 12 finished with value: 0.07744091734196233 and parameters: {'n_factors': 16, 'is_fit_features_together': True, 'regularization': 0.024871077570354436, 'iterations': 10}. Best is trial 11 with value: 0.0775670060710807.\n",
      "/home/robert/itmo/recsys/project/.venv/lib/python3.10/site-packages/rectools/dataset/features.py:420: UserWarning: Converting sparse features to dense array may cause MemoryError\n",
      "  warnings.warn(\"Converting sparse features to dense array may cause MemoryError\")\n",
      "[I 2024-03-14 17:28:24,618] Trial 13 finished with value: 0.0761437028512386 and parameters: {'n_factors': 16, 'is_fit_features_together': True, 'regularization': 0.010680386571936326, 'iterations': 12}. Best is trial 11 with value: 0.0775670060710807.\n",
      "/home/robert/itmo/recsys/project/.venv/lib/python3.10/site-packages/rectools/dataset/features.py:420: UserWarning: Converting sparse features to dense array may cause MemoryError\n",
      "  warnings.warn(\"Converting sparse features to dense array may cause MemoryError\")\n",
      "[I 2024-03-14 17:33:41,902] Trial 14 finished with value: 0.0761322874557131 and parameters: {'n_factors': 16, 'is_fit_features_together': True, 'regularization': 0.026046032921182342, 'iterations': 12}. Best is trial 11 with value: 0.0775670060710807.\n"
     ]
    },
    {
     "name": "stdout",
     "output_type": "stream",
     "text": [
      "CPU times: user 4h 52min 21s, sys: 4h 53min 44s, total: 9h 46min 5s\n",
      "Wall time: 1h 15min 40s\n"
     ]
    }
   ],
   "source": [
    "%%time\n",
    "sampler = TPESampler(seed=RANDOM_STATE)\n",
    "study = optuna.create_study(study_name=\"als\", direction=\"maximize\", sampler=sampler)\n",
    "study.optimize(\n",
    "    partial(objective_als, dataset=dataset, train=train, test=test, metrics=deepcopy(metrics)),\n",
    "    n_trials=15,  ##больше вроде как и излишне,\n",
    ")\n",
    "\n",
    "best_trial_als = study.best_trial\n",
    "best_params_als = study.best_params"
   ]
  },
  {
   "cell_type": "markdown",
   "id": "bdd625b8",
   "metadata": {
    "id": "bdd625b8"
   },
   "source": [
    "После перебора получалсь модель с MAP@10 = 0.775"
   ]
  },
  {
   "cell_type": "markdown",
   "id": "7675d86e",
   "metadata": {
    "id": "7675d86e"
   },
   "source": [
    "Подберем гиперпараметры еще для моделй LightFM"
   ]
  },
  {
   "cell_type": "code",
   "execution_count": 45,
   "id": "5ec59024",
   "metadata": {
    "id": "5ec59024"
   },
   "outputs": [],
   "source": [
    "def objective_lightfm(\n",
    "    trial, dataset: Dataset, train: pd.DataFrame, test: pd.DataFrame, metrics: dict[str, MetricAtK]\n",
    ") -> float:\n",
    "    no_components = trial.suggest_categorical(\"no_components\", [10, 20, 30])\n",
    "    k = trial.suggest_categorical(\"k\", [10, 15, 20])\n",
    "    n = trial.suggest_categorical(\"n\", [10, 15, 20])\n",
    "    loss = trial.suggest_categorical(\"loss\", [\"logistic\", \"bpr\", \"warp\"])\n",
    "\n",
    "    model = LightFMWrapperModel(\n",
    "        LightFM(no_components=no_components, k=k, n=n, loss=loss, random_state=RANDOM_STATE), epochs=N_EPOCHS\n",
    "    )\n",
    "    metric = train_model(metrics=deepcopy(metrics), model=deepcopy(model), dataset=dataset, train=train, test=test)\n",
    "    return metric"
   ]
  },
  {
   "cell_type": "code",
   "execution_count": 46,
   "id": "574133b0",
   "metadata": {
    "colab": {
     "base_uri": "https://localhost:8080/"
    },
    "id": "574133b0",
    "outputId": "b6432a37-3454-48b6-9f50-4c27e492b0fd"
   },
   "outputs": [
    {
     "name": "stderr",
     "output_type": "stream",
     "text": [
      "[I 2024-03-14 17:37:20,944] A new study created in memory with name: lightfm\n",
      "[I 2024-03-14 17:37:58,630] Trial 0 finished with value: 0.07614748699496178 and parameters: {'no_components': 20, 'k': 10, 'n': 15, 'loss': 'warp'}. Best is trial 0 with value: 0.07614748699496178.\n",
      "[I 2024-03-14 17:38:31,136] Trial 1 finished with value: 0.07696015773894478 and parameters: {'no_components': 10, 'k': 20, 'n': 20, 'loss': 'warp'}. Best is trial 1 with value: 0.07696015773894478.\n",
      "[I 2024-03-14 17:39:08,489] Trial 2 finished with value: 0.026250819303940756 and parameters: {'no_components': 20, 'k': 15, 'n': 10, 'loss': 'bpr'}. Best is trial 1 with value: 0.07696015773894478.\n",
      "[I 2024-03-14 17:39:46,880] Trial 3 finished with value: 0.00025809604071657267 and parameters: {'no_components': 30, 'k': 20, 'n': 15, 'loss': 'logistic'}. Best is trial 1 with value: 0.07696015773894478.\n",
      "[I 2024-03-14 17:40:28,876] Trial 4 finished with value: 0.07577294430562485 and parameters: {'no_components': 30, 'k': 15, 'n': 15, 'loss': 'warp'}. Best is trial 1 with value: 0.07696015773894478.\n",
      "[I 2024-03-14 17:41:06,388] Trial 5 finished with value: 0.00025809604071657267 and parameters: {'no_components': 30, 'k': 20, 'n': 15, 'loss': 'logistic'}. Best is trial 1 with value: 0.07696015773894478.\n",
      "[I 2024-03-14 17:41:40,751] Trial 6 finished with value: 0.00025792626896545875 and parameters: {'no_components': 20, 'k': 15, 'n': 20, 'loss': 'logistic'}. Best is trial 1 with value: 0.07696015773894478.\n",
      "[I 2024-03-14 17:42:24,572] Trial 7 finished with value: 0.02808503617589207 and parameters: {'no_components': 30, 'k': 15, 'n': 20, 'loss': 'bpr'}. Best is trial 1 with value: 0.07696015773894478.\n",
      "[I 2024-03-14 17:42:58,948] Trial 8 finished with value: 0.07696015773894478 and parameters: {'no_components': 10, 'k': 20, 'n': 20, 'loss': 'warp'}. Best is trial 1 with value: 0.07696015773894478.\n",
      "[I 2024-03-14 17:43:42,884] Trial 9 finished with value: 0.02808503617589207 and parameters: {'no_components': 30, 'k': 15, 'n': 15, 'loss': 'bpr'}. Best is trial 1 with value: 0.07696015773894478.\n",
      "[I 2024-03-14 17:44:18,583] Trial 10 finished with value: 0.07696015773894478 and parameters: {'no_components': 10, 'k': 10, 'n': 10, 'loss': 'warp'}. Best is trial 1 with value: 0.07696015773894478.\n",
      "[I 2024-03-14 17:44:54,013] Trial 11 finished with value: 0.07696015773894478 and parameters: {'no_components': 10, 'k': 20, 'n': 20, 'loss': 'warp'}. Best is trial 1 with value: 0.07696015773894478.\n",
      "[I 2024-03-14 17:45:29,701] Trial 12 finished with value: 0.07696015773894478 and parameters: {'no_components': 10, 'k': 20, 'n': 20, 'loss': 'warp'}. Best is trial 1 with value: 0.07696015773894478.\n",
      "[I 2024-03-14 17:46:05,050] Trial 13 finished with value: 0.07696015773894478 and parameters: {'no_components': 10, 'k': 20, 'n': 20, 'loss': 'warp'}. Best is trial 1 with value: 0.07696015773894478.\n",
      "[I 2024-03-14 17:46:39,626] Trial 14 finished with value: 0.07696015773894478 and parameters: {'no_components': 10, 'k': 20, 'n': 20, 'loss': 'warp'}. Best is trial 1 with value: 0.07696015773894478.\n"
     ]
    },
    {
     "name": "stdout",
     "output_type": "stream",
     "text": [
      "CPU times: user 18min 50s, sys: 27min 1s, total: 45min 52s\n",
      "Wall time: 9min 18s\n"
     ]
    }
   ],
   "source": [
    "%%time\n",
    "sampler = TPESampler(seed=RANDOM_STATE)\n",
    "study = optuna.create_study(study_name=\"lightfm\", direction=\"maximize\", sampler=sampler)\n",
    "study.optimize(\n",
    "    partial(objective_lightfm, dataset=dataset, train=train, test=test, metrics=deepcopy(metrics)),\n",
    "    n_trials=15,  ##больше вроде как и излишне,\n",
    ")\n",
    "\n",
    "best_trial_lightfm = study.best_trial\n",
    "best_params_lightfm = study.best_params"
   ]
  },
  {
   "cell_type": "markdown",
   "id": "2d873de6",
   "metadata": {
    "id": "2d873de6"
   },
   "source": [
    "Получили метрику MAP@10=0.769."
   ]
  },
  {
   "cell_type": "markdown",
   "id": "79885b1e-5466-4c34-90b0-7ca881863064",
   "metadata": {},
   "source": [
    "Обучим модели с лучшими параметрами на всем датасете"
   ]
  },
  {
   "cell_type": "code",
   "execution_count": 47,
   "id": "c1d925a7-9a5c-4769-9d31-46380c5d67f9",
   "metadata": {
    "id": "c1d925a7-9a5c-4769-9d31-46380c5d67f9"
   },
   "outputs": [],
   "source": [
    "user_features = get_users_features(users, interactions_df, [\"sex\", \"age\", \"income\"])\n",
    "item_features = get_items_features(items, interactions_df, [\"genre\"])"
   ]
  },
  {
   "cell_type": "code",
   "execution_count": 48,
   "id": "56af9e90-80a7-40b9-9f04-8283e69b0720",
   "metadata": {
    "id": "56af9e90-80a7-40b9-9f04-8283e69b0720"
   },
   "outputs": [],
   "source": [
    "dataset = Dataset.construct(\n",
    "    interactions_df=interactions_df,\n",
    "    user_features_df=user_features,\n",
    "    cat_user_features=[\"sex\", \"age\", \"income\"],\n",
    "    item_features_df=item_features,\n",
    "    cat_item_features=[\"genre\", \"content_type\"],\n",
    ")"
   ]
  },
  {
   "cell_type": "code",
   "execution_count": 49,
   "id": "295e8953-6198-4e8f-b02f-00bcdd60272f",
   "metadata": {
    "colab": {
     "base_uri": "https://localhost:8080/"
    },
    "id": "295e8953-6198-4e8f-b02f-00bcdd60272f",
    "outputId": "020fdc05-3bc7-4e56-c968-dd026b070e41"
   },
   "outputs": [
    {
     "name": "stderr",
     "output_type": "stream",
     "text": [
      "/home/robert/itmo/recsys/project/.venv/lib/python3.10/site-packages/rectools/dataset/features.py:420: UserWarning: Converting sparse features to dense array may cause MemoryError\n",
      "  warnings.warn(\"Converting sparse features to dense array may cause MemoryError\")\n"
     ]
    },
    {
     "data": {
      "text/plain": [
       "<rectools.models.implicit_als.ImplicitALSWrapperModel at 0x7efdc7c59cc0>"
      ]
     },
     "execution_count": 49,
     "metadata": {},
     "output_type": "execute_result"
    }
   ],
   "source": [
    "model_als = ImplicitALSWrapperModel(\n",
    "    AlternatingLeastSquares(\n",
    "        factors=best_params_als[\"n_factors\"],\n",
    "        regularization=best_params_als[\"regularization\"],\n",
    "        iterations=best_params_als[\"iterations\"],\n",
    "        random_state=RANDOM_STATE,\n",
    "    ),\n",
    "    fit_features_together=best_params_als[\"is_fit_features_together\"],\n",
    ")\n",
    "model_als.fit(dataset)"
   ]
  },
  {
   "cell_type": "code",
   "execution_count": 50,
   "id": "zyohyLyfhZ-y",
   "metadata": {
    "colab": {
     "base_uri": "https://localhost:8080/"
    },
    "id": "zyohyLyfhZ-y",
    "outputId": "d88ae840-56d8-428b-b4f6-c01e41f42043"
   },
   "outputs": [
    {
     "data": {
      "text/plain": [
       "<rectools.models.lightfm.LightFMWrapperModel at 0x7efdc8d502e0>"
      ]
     },
     "execution_count": 50,
     "metadata": {},
     "output_type": "execute_result"
    }
   ],
   "source": [
    "model_lightfm = LightFMWrapperModel(\n",
    "    LightFM(**best_params_lightfm, random_state=RANDOM_STATE),\n",
    "    epochs=N_EPOCHS,\n",
    "    num_threads=2,\n",
    ")\n",
    "model_lightfm.fit(dataset)"
   ]
  },
  {
   "cell_type": "code",
   "execution_count": 51,
   "id": "5NV3wGNTZtiJ",
   "metadata": {
    "id": "5NV3wGNTZtiJ"
   },
   "outputs": [],
   "source": [
    "with open(LIGHTFM_MODEL_PATH, \"wb\") as f:\n",
    "    pickle.dump(model_lightfm, f)"
   ]
  },
  {
   "cell_type": "code",
   "execution_count": 52,
   "id": "GPokbeUJWelu",
   "metadata": {
    "id": "GPokbeUJWelu"
   },
   "outputs": [],
   "source": [
    "with open(ALS_MODEL_PATH, \"wb\") as f:\n",
    "    pickle.dump(model_als, f)"
   ]
  },
  {
   "cell_type": "markdown",
   "id": "a8f926ca",
   "metadata": {
    "id": "a8f926ca"
   },
   "source": [
    "## Приближенный поиск"
   ]
  },
  {
   "cell_type": "markdown",
   "id": "74822dab-7cfb-4308-b9fe-2d59480cae2e",
   "metadata": {},
   "source": [
    "Для приближенного поиска возьмем модель ALS"
   ]
  },
  {
   "cell_type": "markdown",
   "id": "c3065150-e66d-4390-b4a8-5c569631aef0",
   "metadata": {
    "id": "c3065150-e66d-4390-b4a8-5c569631aef0"
   },
   "source": [
    "Достаем данные из модели"
   ]
  },
  {
   "cell_type": "code",
   "execution_count": 53,
   "id": "ee38a87f-da1b-43be-9157-081302a38d66",
   "metadata": {
    "id": "ee38a87f-da1b-43be-9157-081302a38d66"
   },
   "outputs": [],
   "source": [
    "user_vectors, item_vectors = model_als.get_vectors()"
   ]
  },
  {
   "cell_type": "markdown",
   "id": "880d9705-50e3-45c9-9734-e72dd06ee621",
   "metadata": {
    "id": "880d9705-50e3-45c9-9734-e72dd06ee621"
   },
   "source": [
    "Попробуем UserToItemANNRecommender"
   ]
  },
  {
   "cell_type": "code",
   "execution_count": 54,
   "id": "0b11e7c4-7ff3-461b-8181-47d762760b89",
   "metadata": {
    "id": "0b11e7c4-7ff3-461b-8181-47d762760b89"
   },
   "outputs": [],
   "source": [
    "ann_als = UserToItemAnnRecommender(\n",
    "    user_vectors=user_vectors,\n",
    "    item_vectors=item_vectors,\n",
    "    user_id_map=dataset.user_id_map,\n",
    "    item_id_map=dataset.item_id_map,\n",
    ")"
   ]
  },
  {
   "cell_type": "code",
   "execution_count": 55,
   "id": "2d65bc47-d2c3-4024-83e9-81d5e7522a1c",
   "metadata": {
    "colab": {
     "base_uri": "https://localhost:8080/"
    },
    "id": "2d65bc47-d2c3-4024-83e9-81d5e7522a1c",
    "outputId": "f2839269-3dd9-49b7-b742-a5a9ca7ba06b"
   },
   "outputs": [
    {
     "data": {
      "text/plain": [
       "<rectools.tools.ann.UserToItemAnnRecommender at 0x7efdc7c59900>"
      ]
     },
     "execution_count": 55,
     "metadata": {},
     "output_type": "execute_result"
    }
   ],
   "source": [
    "ann_als.fit()"
   ]
  },
  {
   "cell_type": "code",
   "execution_count": 56,
   "id": "52738f88-4231-4855-ac99-2f8db4f5396c",
   "metadata": {
    "colab": {
     "base_uri": "https://localhost:8080/"
    },
    "id": "52738f88-4231-4855-ac99-2f8db4f5396c",
    "outputId": "60501b00-9be0-4022-c34b-88e87d3af26c"
   },
   "outputs": [
    {
     "data": {
      "text/plain": [
       "array([ 9728,  6809, 13865,   142, 10440, 11237,  3734,  9996,  2657,\n",
       "        4740])"
      ]
     },
     "execution_count": 56,
     "metadata": {},
     "output_type": "execute_result"
    }
   ],
   "source": [
    "ann_als.get_item_list_for_user(973171, top_n=K_RECOS)"
   ]
  },
  {
   "cell_type": "code",
   "execution_count": 57,
   "id": "aTdNkgW3grfK",
   "metadata": {
    "id": "aTdNkgW3grfK"
   },
   "outputs": [],
   "source": [
    "with open(ANN_MODEL_PATH, \"wb\") as f:\n",
    "    pickle.dump(ann_als, f)"
   ]
  },
  {
   "cell_type": "code",
   "execution_count": 58,
   "id": "ef483a7e-a6bb-407f-85c5-00f6cea69002",
   "metadata": {
    "id": "ef483a7e-a6bb-407f-85c5-00f6cea69002"
   },
   "outputs": [],
   "source": [
    "def compute_avg_time_of_inference(model):\n",
    "    times = []\n",
    "    for _ in range(1000):\n",
    "        start = time.time()\n",
    "        model.get_item_list_for_user(973171, top_n=K_RECOS).tolist()\n",
    "        times.append(time.time() - start)\n",
    "    return sum(times) / len(times)"
   ]
  },
  {
   "cell_type": "code",
   "execution_count": 59,
   "id": "b459ae46-d251-4262-a9d2-afc8cf9ac2e6",
   "metadata": {
    "id": "b459ae46-d251-4262-a9d2-afc8cf9ac2e6",
    "outputId": "326c4029-75af-4eb0-c862-139b0ed39c2a"
   },
   "outputs": [
    {
     "name": "stdout",
     "output_type": "stream",
     "text": [
      "Среднее время получения результата от одного юзера: 0.030861478567123412\n"
     ]
    }
   ],
   "source": [
    "print(f\"Среднее время получения результата от одного юзера: {compute_avg_time_of_inference(ann_als)}\")"
   ]
  },
  {
   "cell_type": "markdown",
   "id": "2c5b3056-cdac-4884-a761-0821e76934a6",
   "metadata": {
    "id": "2c5b3056-cdac-4884-a761-0821e76934a6"
   },
   "source": [
    "Посмотрим результаты для юзера 973171"
   ]
  },
  {
   "cell_type": "code",
   "execution_count": 60,
   "id": "7b52f768-f951-40cb-bbf0-5644bc7a9d16",
   "metadata": {
    "id": "7b52f768-f951-40cb-bbf0-5644bc7a9d16",
    "outputId": "700adce3-c077-4342-890d-3bf6a5a1200a"
   },
   "outputs": [
    {
     "data": {
      "text/plain": [
       "array([ 9728,  6809, 13865,   142, 10440, 11237,  3734,  9996,  2657,\n",
       "        4740])"
      ]
     },
     "execution_count": 60,
     "metadata": {},
     "output_type": "execute_result"
    }
   ],
   "source": [
    "ann_als.get_item_list_for_user(973171, top_n=K_RECOS)"
   ]
  }
 ],
 "metadata": {
  "accelerator": "GPU",
  "colab": {
   "provenance": []
  },
  "kernelspec": {
   "display_name": "Python 3 (ipykernel)",
   "language": "python",
   "name": "python3"
  },
  "language_info": {
   "codemirror_mode": {
    "name": "ipython",
    "version": 3
   },
   "file_extension": ".py",
   "mimetype": "text/x-python",
   "name": "python",
   "nbconvert_exporter": "python",
   "pygments_lexer": "ipython3",
   "version": "3.10.12"
  },
  "widgets": {
   "application/vnd.jupyter.widget-state+json": {
    "01bc06acb295402e90a3aadd234d961a": {
     "model_module": "@jupyter-widgets/controls",
     "model_module_version": "1.5.0",
     "model_name": "HBoxModel",
     "state": {
      "_dom_classes": [],
      "_model_module": "@jupyter-widgets/controls",
      "_model_module_version": "1.5.0",
      "_model_name": "HBoxModel",
      "_view_count": null,
      "_view_module": "@jupyter-widgets/controls",
      "_view_module_version": "1.5.0",
      "_view_name": "HBoxView",
      "box_style": "",
      "children": [
       "IPY_MODEL_357fa023d92e4c12981706208237c1d3",
       "IPY_MODEL_39ddc42c81e24884a84650d4c1ca8e0b",
       "IPY_MODEL_6e2be42af44a4ee29a4b9e338cff8bce"
      ],
      "layout": "IPY_MODEL_614e4f051eb345c5a6a6c7814a92bf27"
     }
    },
    "058f609463a84e9aab75efd2df77f167": {
     "model_module": "@jupyter-widgets/controls",
     "model_module_version": "1.5.0",
     "model_name": "DescriptionStyleModel",
     "state": {
      "_model_module": "@jupyter-widgets/controls",
      "_model_module_version": "1.5.0",
      "_model_name": "DescriptionStyleModel",
      "_view_count": null,
      "_view_module": "@jupyter-widgets/base",
      "_view_module_version": "1.2.0",
      "_view_name": "StyleView",
      "description_width": ""
     }
    },
    "059464415b5c4e80b385c78b85b78e0e": {
     "model_module": "@jupyter-widgets/controls",
     "model_module_version": "1.5.0",
     "model_name": "HBoxModel",
     "state": {
      "_dom_classes": [],
      "_model_module": "@jupyter-widgets/controls",
      "_model_module_version": "1.5.0",
      "_model_name": "HBoxModel",
      "_view_count": null,
      "_view_module": "@jupyter-widgets/controls",
      "_view_module_version": "1.5.0",
      "_view_name": "HBoxView",
      "box_style": "",
      "children": [
       "IPY_MODEL_4ae1451550524c24b1d2f574735f54c5",
       "IPY_MODEL_65766ae30dfe43158861d614bdde793a",
       "IPY_MODEL_980917a641d04b3bb19280d166413b61"
      ],
      "layout": "IPY_MODEL_8a2d02bc1706449c895de0ae4e85da1c"
     }
    },
    "09a8bf9fcf6546f5b5a18f32e3e0e32c": {
     "model_module": "@jupyter-widgets/controls",
     "model_module_version": "1.5.0",
     "model_name": "ProgressStyleModel",
     "state": {
      "_model_module": "@jupyter-widgets/controls",
      "_model_module_version": "1.5.0",
      "_model_name": "ProgressStyleModel",
      "_view_count": null,
      "_view_module": "@jupyter-widgets/base",
      "_view_module_version": "1.2.0",
      "_view_name": "StyleView",
      "bar_color": null,
      "description_width": ""
     }
    },
    "10abc933db9645a4af81f7578985ffd6": {
     "model_module": "@jupyter-widgets/controls",
     "model_module_version": "1.5.0",
     "model_name": "DescriptionStyleModel",
     "state": {
      "_model_module": "@jupyter-widgets/controls",
      "_model_module_version": "1.5.0",
      "_model_name": "DescriptionStyleModel",
      "_view_count": null,
      "_view_module": "@jupyter-widgets/base",
      "_view_module_version": "1.2.0",
      "_view_name": "StyleView",
      "description_width": ""
     }
    },
    "146e118caa974a26a260e0f8baba3b6a": {
     "model_module": "@jupyter-widgets/controls",
     "model_module_version": "1.5.0",
     "model_name": "ProgressStyleModel",
     "state": {
      "_model_module": "@jupyter-widgets/controls",
      "_model_module_version": "1.5.0",
      "_model_name": "ProgressStyleModel",
      "_view_count": null,
      "_view_module": "@jupyter-widgets/base",
      "_view_module_version": "1.2.0",
      "_view_name": "StyleView",
      "bar_color": null,
      "description_width": ""
     }
    },
    "1639be6dfaff4b799594484d9f4a440a": {
     "model_module": "@jupyter-widgets/controls",
     "model_module_version": "1.5.0",
     "model_name": "HTMLModel",
     "state": {
      "_dom_classes": [],
      "_model_module": "@jupyter-widgets/controls",
      "_model_module_version": "1.5.0",
      "_model_name": "HTMLModel",
      "_view_count": null,
      "_view_module": "@jupyter-widgets/controls",
      "_view_module_version": "1.5.0",
      "_view_name": "HTMLView",
      "description": "",
      "description_tooltip": null,
      "layout": "IPY_MODEL_33242851222940dfa290a1f9494027ae",
      "placeholder": "​",
      "style": "IPY_MODEL_714097c87a7141f1be256ec879f065e8",
      "value": " 1/1 [00:00&lt;00:00,  1.67it/s]"
     }
    },
    "172dba28011045ffad6d332af5fa5fa7": {
     "model_module": "@jupyter-widgets/controls",
     "model_module_version": "1.5.0",
     "model_name": "DescriptionStyleModel",
     "state": {
      "_model_module": "@jupyter-widgets/controls",
      "_model_module_version": "1.5.0",
      "_model_name": "DescriptionStyleModel",
      "_view_count": null,
      "_view_module": "@jupyter-widgets/base",
      "_view_module_version": "1.2.0",
      "_view_name": "StyleView",
      "description_width": ""
     }
    },
    "180ea131d0394a1d9cbdd0f360ff7609": {
     "model_module": "@jupyter-widgets/base",
     "model_module_version": "1.2.0",
     "model_name": "LayoutModel",
     "state": {
      "_model_module": "@jupyter-widgets/base",
      "_model_module_version": "1.2.0",
      "_model_name": "LayoutModel",
      "_view_count": null,
      "_view_module": "@jupyter-widgets/base",
      "_view_module_version": "1.2.0",
      "_view_name": "LayoutView",
      "align_content": null,
      "align_items": null,
      "align_self": null,
      "border": null,
      "bottom": null,
      "display": null,
      "flex": null,
      "flex_flow": null,
      "grid_area": null,
      "grid_auto_columns": null,
      "grid_auto_flow": null,
      "grid_auto_rows": null,
      "grid_column": null,
      "grid_gap": null,
      "grid_row": null,
      "grid_template_areas": null,
      "grid_template_columns": null,
      "grid_template_rows": null,
      "height": null,
      "justify_content": null,
      "justify_items": null,
      "left": null,
      "margin": null,
      "max_height": null,
      "max_width": null,
      "min_height": null,
      "min_width": null,
      "object_fit": null,
      "object_position": null,
      "order": null,
      "overflow": null,
      "overflow_x": null,
      "overflow_y": null,
      "padding": null,
      "right": null,
      "top": null,
      "visibility": null,
      "width": null
     }
    },
    "1d2af328d1144a889a787004571e1e63": {
     "model_module": "@jupyter-widgets/base",
     "model_module_version": "1.2.0",
     "model_name": "LayoutModel",
     "state": {
      "_model_module": "@jupyter-widgets/base",
      "_model_module_version": "1.2.0",
      "_model_name": "LayoutModel",
      "_view_count": null,
      "_view_module": "@jupyter-widgets/base",
      "_view_module_version": "1.2.0",
      "_view_name": "LayoutView",
      "align_content": null,
      "align_items": null,
      "align_self": null,
      "border": null,
      "bottom": null,
      "display": null,
      "flex": null,
      "flex_flow": null,
      "grid_area": null,
      "grid_auto_columns": null,
      "grid_auto_flow": null,
      "grid_auto_rows": null,
      "grid_column": null,
      "grid_gap": null,
      "grid_row": null,
      "grid_template_areas": null,
      "grid_template_columns": null,
      "grid_template_rows": null,
      "height": null,
      "justify_content": null,
      "justify_items": null,
      "left": null,
      "margin": null,
      "max_height": null,
      "max_width": null,
      "min_height": null,
      "min_width": null,
      "object_fit": null,
      "object_position": null,
      "order": null,
      "overflow": null,
      "overflow_x": null,
      "overflow_y": null,
      "padding": null,
      "right": null,
      "top": null,
      "visibility": null,
      "width": null
     }
    },
    "2079462d1f5843d693f8d802e885a941": {
     "model_module": "@jupyter-widgets/controls",
     "model_module_version": "1.5.0",
     "model_name": "ProgressStyleModel",
     "state": {
      "_model_module": "@jupyter-widgets/controls",
      "_model_module_version": "1.5.0",
      "_model_name": "ProgressStyleModel",
      "_view_count": null,
      "_view_module": "@jupyter-widgets/base",
      "_view_module_version": "1.2.0",
      "_view_name": "StyleView",
      "bar_color": null,
      "description_width": ""
     }
    },
    "210e7b43dae34838a0e449099003661e": {
     "model_module": "@jupyter-widgets/controls",
     "model_module_version": "1.5.0",
     "model_name": "HTMLModel",
     "state": {
      "_dom_classes": [],
      "_model_module": "@jupyter-widgets/controls",
      "_model_module_version": "1.5.0",
      "_model_name": "HTMLModel",
      "_view_count": null,
      "_view_module": "@jupyter-widgets/controls",
      "_view_module_version": "1.5.0",
      "_view_name": "HTMLView",
      "description": "",
      "description_tooltip": null,
      "layout": "IPY_MODEL_e5162a30d2d54246be838b2b73ea528d",
      "placeholder": "​",
      "style": "IPY_MODEL_489bbe3607b740e2b5c663a5983a07fb",
      "value": "100%"
     }
    },
    "21ab079875fd483cabbd4d2501e019ce": {
     "model_module": "@jupyter-widgets/controls",
     "model_module_version": "1.5.0",
     "model_name": "DescriptionStyleModel",
     "state": {
      "_model_module": "@jupyter-widgets/controls",
      "_model_module_version": "1.5.0",
      "_model_name": "DescriptionStyleModel",
      "_view_count": null,
      "_view_module": "@jupyter-widgets/base",
      "_view_module_version": "1.2.0",
      "_view_name": "StyleView",
      "description_width": ""
     }
    },
    "22008bca75ea4f4fa2215cf35ca3e937": {
     "model_module": "@jupyter-widgets/controls",
     "model_module_version": "1.5.0",
     "model_name": "DescriptionStyleModel",
     "state": {
      "_model_module": "@jupyter-widgets/controls",
      "_model_module_version": "1.5.0",
      "_model_name": "DescriptionStyleModel",
      "_view_count": null,
      "_view_module": "@jupyter-widgets/base",
      "_view_module_version": "1.2.0",
      "_view_name": "StyleView",
      "description_width": ""
     }
    },
    "22c35d47e7ca4e769766cd243f7f1954": {
     "model_module": "@jupyter-widgets/controls",
     "model_module_version": "1.5.0",
     "model_name": "HTMLModel",
     "state": {
      "_dom_classes": [],
      "_model_module": "@jupyter-widgets/controls",
      "_model_module_version": "1.5.0",
      "_model_name": "HTMLModel",
      "_view_count": null,
      "_view_module": "@jupyter-widgets/controls",
      "_view_module_version": "1.5.0",
      "_view_name": "HTMLView",
      "description": "",
      "description_tooltip": null,
      "layout": "IPY_MODEL_da2e434757e6440b8f5ac0739ea88a29",
      "placeholder": "​",
      "style": "IPY_MODEL_058f609463a84e9aab75efd2df77f167",
      "value": " 1/1 [00:00&lt;00:00,  2.84it/s]"
     }
    },
    "27bce7ed790245e194450f29a2734ce6": {
     "model_module": "@jupyter-widgets/controls",
     "model_module_version": "1.5.0",
     "model_name": "DescriptionStyleModel",
     "state": {
      "_model_module": "@jupyter-widgets/controls",
      "_model_module_version": "1.5.0",
      "_model_name": "DescriptionStyleModel",
      "_view_count": null,
      "_view_module": "@jupyter-widgets/base",
      "_view_module_version": "1.2.0",
      "_view_name": "StyleView",
      "description_width": ""
     }
    },
    "29e07d7449c54003886c1a76a7a825b7": {
     "model_module": "@jupyter-widgets/controls",
     "model_module_version": "1.5.0",
     "model_name": "DescriptionStyleModel",
     "state": {
      "_model_module": "@jupyter-widgets/controls",
      "_model_module_version": "1.5.0",
      "_model_name": "DescriptionStyleModel",
      "_view_count": null,
      "_view_module": "@jupyter-widgets/base",
      "_view_module_version": "1.2.0",
      "_view_name": "StyleView",
      "description_width": ""
     }
    },
    "31f73ed446324cac8e9e19325cb101c5": {
     "model_module": "@jupyter-widgets/controls",
     "model_module_version": "1.5.0",
     "model_name": "HTMLModel",
     "state": {
      "_dom_classes": [],
      "_model_module": "@jupyter-widgets/controls",
      "_model_module_version": "1.5.0",
      "_model_name": "HTMLModel",
      "_view_count": null,
      "_view_module": "@jupyter-widgets/controls",
      "_view_module_version": "1.5.0",
      "_view_name": "HTMLView",
      "description": "",
      "description_tooltip": null,
      "layout": "IPY_MODEL_6dba086cb4ae431c907ffebfe7efa588",
      "placeholder": "​",
      "style": "IPY_MODEL_fc537438348a48ba95888953f3cbde8f",
      "value": "100%"
     }
    },
    "33242851222940dfa290a1f9494027ae": {
     "model_module": "@jupyter-widgets/base",
     "model_module_version": "1.2.0",
     "model_name": "LayoutModel",
     "state": {
      "_model_module": "@jupyter-widgets/base",
      "_model_module_version": "1.2.0",
      "_model_name": "LayoutModel",
      "_view_count": null,
      "_view_module": "@jupyter-widgets/base",
      "_view_module_version": "1.2.0",
      "_view_name": "LayoutView",
      "align_content": null,
      "align_items": null,
      "align_self": null,
      "border": null,
      "bottom": null,
      "display": null,
      "flex": null,
      "flex_flow": null,
      "grid_area": null,
      "grid_auto_columns": null,
      "grid_auto_flow": null,
      "grid_auto_rows": null,
      "grid_column": null,
      "grid_gap": null,
      "grid_row": null,
      "grid_template_areas": null,
      "grid_template_columns": null,
      "grid_template_rows": null,
      "height": null,
      "justify_content": null,
      "justify_items": null,
      "left": null,
      "margin": null,
      "max_height": null,
      "max_width": null,
      "min_height": null,
      "min_width": null,
      "object_fit": null,
      "object_position": null,
      "order": null,
      "overflow": null,
      "overflow_x": null,
      "overflow_y": null,
      "padding": null,
      "right": null,
      "top": null,
      "visibility": null,
      "width": null
     }
    },
    "3489efddb44f40f09e12fc7530466990": {
     "model_module": "@jupyter-widgets/controls",
     "model_module_version": "1.5.0",
     "model_name": "ProgressStyleModel",
     "state": {
      "_model_module": "@jupyter-widgets/controls",
      "_model_module_version": "1.5.0",
      "_model_name": "ProgressStyleModel",
      "_view_count": null,
      "_view_module": "@jupyter-widgets/base",
      "_view_module_version": "1.2.0",
      "_view_name": "StyleView",
      "bar_color": null,
      "description_width": ""
     }
    },
    "357fa023d92e4c12981706208237c1d3": {
     "model_module": "@jupyter-widgets/controls",
     "model_module_version": "1.5.0",
     "model_name": "HTMLModel",
     "state": {
      "_dom_classes": [],
      "_model_module": "@jupyter-widgets/controls",
      "_model_module_version": "1.5.0",
      "_model_name": "HTMLModel",
      "_view_count": null,
      "_view_module": "@jupyter-widgets/controls",
      "_view_module_version": "1.5.0",
      "_view_name": "HTMLView",
      "description": "",
      "description_tooltip": null,
      "layout": "IPY_MODEL_a330531b139143ca80e0e574d79667a4",
      "placeholder": "​",
      "style": "IPY_MODEL_37a83827c5ed4acca55010d49a0945e5",
      "value": "100%"
     }
    },
    "3759593097ff4ecdb6a86c56b8027281": {
     "model_module": "@jupyter-widgets/controls",
     "model_module_version": "1.5.0",
     "model_name": "HTMLModel",
     "state": {
      "_dom_classes": [],
      "_model_module": "@jupyter-widgets/controls",
      "_model_module_version": "1.5.0",
      "_model_name": "HTMLModel",
      "_view_count": null,
      "_view_module": "@jupyter-widgets/controls",
      "_view_module_version": "1.5.0",
      "_view_name": "HTMLView",
      "description": "",
      "description_tooltip": null,
      "layout": "IPY_MODEL_c360dcd97637430ca3c73ff95757ddf9",
      "placeholder": "​",
      "style": "IPY_MODEL_9f3cafa11cc149a6988ce74ad3bd743c",
      "value": "100%"
     }
    },
    "37a83827c5ed4acca55010d49a0945e5": {
     "model_module": "@jupyter-widgets/controls",
     "model_module_version": "1.5.0",
     "model_name": "DescriptionStyleModel",
     "state": {
      "_model_module": "@jupyter-widgets/controls",
      "_model_module_version": "1.5.0",
      "_model_name": "DescriptionStyleModel",
      "_view_count": null,
      "_view_module": "@jupyter-widgets/base",
      "_view_module_version": "1.2.0",
      "_view_name": "StyleView",
      "description_width": ""
     }
    },
    "38abb82854fe4748a6fb2c6fc50bd7ef": {
     "model_module": "@jupyter-widgets/controls",
     "model_module_version": "1.5.0",
     "model_name": "FloatProgressModel",
     "state": {
      "_dom_classes": [],
      "_model_module": "@jupyter-widgets/controls",
      "_model_module_version": "1.5.0",
      "_model_name": "FloatProgressModel",
      "_view_count": null,
      "_view_module": "@jupyter-widgets/controls",
      "_view_module_version": "1.5.0",
      "_view_name": "ProgressView",
      "bar_style": "success",
      "description": "",
      "description_tooltip": null,
      "layout": "IPY_MODEL_a1373d274b7b41abbf433d78624bf7cd",
      "max": 1,
      "min": 0,
      "orientation": "horizontal",
      "style": "IPY_MODEL_4064f69403f24549afd1958a83b30765",
      "value": 1
     }
    },
    "39ddc42c81e24884a84650d4c1ca8e0b": {
     "model_module": "@jupyter-widgets/controls",
     "model_module_version": "1.5.0",
     "model_name": "FloatProgressModel",
     "state": {
      "_dom_classes": [],
      "_model_module": "@jupyter-widgets/controls",
      "_model_module_version": "1.5.0",
      "_model_name": "FloatProgressModel",
      "_view_count": null,
      "_view_module": "@jupyter-widgets/controls",
      "_view_module_version": "1.5.0",
      "_view_name": "ProgressView",
      "bar_style": "success",
      "description": "",
      "description_tooltip": null,
      "layout": "IPY_MODEL_f6f421833284422eb341bde7a23aa084",
      "max": 1,
      "min": 0,
      "orientation": "horizontal",
      "style": "IPY_MODEL_2079462d1f5843d693f8d802e885a941",
      "value": 1
     }
    },
    "3af734b8d5a543fb9a0eebef8cb0f5f5": {
     "model_module": "@jupyter-widgets/controls",
     "model_module_version": "1.5.0",
     "model_name": "FloatProgressModel",
     "state": {
      "_dom_classes": [],
      "_model_module": "@jupyter-widgets/controls",
      "_model_module_version": "1.5.0",
      "_model_name": "FloatProgressModel",
      "_view_count": null,
      "_view_module": "@jupyter-widgets/controls",
      "_view_module_version": "1.5.0",
      "_view_name": "ProgressView",
      "bar_style": "success",
      "description": "",
      "description_tooltip": null,
      "layout": "IPY_MODEL_180ea131d0394a1d9cbdd0f360ff7609",
      "max": 1,
      "min": 0,
      "orientation": "horizontal",
      "style": "IPY_MODEL_ce04a1959f5c4ca99ed94b2107b9eb86",
      "value": 1
     }
    },
    "3cad34d74f2c469e8ba9ccf085bd7651": {
     "model_module": "@jupyter-widgets/base",
     "model_module_version": "1.2.0",
     "model_name": "LayoutModel",
     "state": {
      "_model_module": "@jupyter-widgets/base",
      "_model_module_version": "1.2.0",
      "_model_name": "LayoutModel",
      "_view_count": null,
      "_view_module": "@jupyter-widgets/base",
      "_view_module_version": "1.2.0",
      "_view_name": "LayoutView",
      "align_content": null,
      "align_items": null,
      "align_self": null,
      "border": null,
      "bottom": null,
      "display": null,
      "flex": null,
      "flex_flow": null,
      "grid_area": null,
      "grid_auto_columns": null,
      "grid_auto_flow": null,
      "grid_auto_rows": null,
      "grid_column": null,
      "grid_gap": null,
      "grid_row": null,
      "grid_template_areas": null,
      "grid_template_columns": null,
      "grid_template_rows": null,
      "height": null,
      "justify_content": null,
      "justify_items": null,
      "left": null,
      "margin": null,
      "max_height": null,
      "max_width": null,
      "min_height": null,
      "min_width": null,
      "object_fit": null,
      "object_position": null,
      "order": null,
      "overflow": null,
      "overflow_x": null,
      "overflow_y": null,
      "padding": null,
      "right": null,
      "top": null,
      "visibility": null,
      "width": null
     }
    },
    "3d5421e579e6451a864b92031b35518b": {
     "model_module": "@jupyter-widgets/base",
     "model_module_version": "1.2.0",
     "model_name": "LayoutModel",
     "state": {
      "_model_module": "@jupyter-widgets/base",
      "_model_module_version": "1.2.0",
      "_model_name": "LayoutModel",
      "_view_count": null,
      "_view_module": "@jupyter-widgets/base",
      "_view_module_version": "1.2.0",
      "_view_name": "LayoutView",
      "align_content": null,
      "align_items": null,
      "align_self": null,
      "border": null,
      "bottom": null,
      "display": null,
      "flex": null,
      "flex_flow": null,
      "grid_area": null,
      "grid_auto_columns": null,
      "grid_auto_flow": null,
      "grid_auto_rows": null,
      "grid_column": null,
      "grid_gap": null,
      "grid_row": null,
      "grid_template_areas": null,
      "grid_template_columns": null,
      "grid_template_rows": null,
      "height": null,
      "justify_content": null,
      "justify_items": null,
      "left": null,
      "margin": null,
      "max_height": null,
      "max_width": null,
      "min_height": null,
      "min_width": null,
      "object_fit": null,
      "object_position": null,
      "order": null,
      "overflow": null,
      "overflow_x": null,
      "overflow_y": null,
      "padding": null,
      "right": null,
      "top": null,
      "visibility": null,
      "width": null
     }
    },
    "3d9fdb43984645a5ac95acc93d2e5019": {
     "model_module": "@jupyter-widgets/controls",
     "model_module_version": "1.5.0",
     "model_name": "FloatProgressModel",
     "state": {
      "_dom_classes": [],
      "_model_module": "@jupyter-widgets/controls",
      "_model_module_version": "1.5.0",
      "_model_name": "FloatProgressModel",
      "_view_count": null,
      "_view_module": "@jupyter-widgets/controls",
      "_view_module_version": "1.5.0",
      "_view_name": "ProgressView",
      "bar_style": "success",
      "description": "",
      "description_tooltip": null,
      "layout": "IPY_MODEL_e0803b66b67e477292174af01ab22398",
      "max": 1,
      "min": 0,
      "orientation": "horizontal",
      "style": "IPY_MODEL_f3fe42a3ee254e36aab3c502f3b72bbc",
      "value": 1
     }
    },
    "3ee0f34d2ed942cd84361fe9489622ec": {
     "model_module": "@jupyter-widgets/controls",
     "model_module_version": "1.5.0",
     "model_name": "ProgressStyleModel",
     "state": {
      "_model_module": "@jupyter-widgets/controls",
      "_model_module_version": "1.5.0",
      "_model_name": "ProgressStyleModel",
      "_view_count": null,
      "_view_module": "@jupyter-widgets/base",
      "_view_module_version": "1.2.0",
      "_view_name": "StyleView",
      "bar_color": null,
      "description_width": ""
     }
    },
    "4064f69403f24549afd1958a83b30765": {
     "model_module": "@jupyter-widgets/controls",
     "model_module_version": "1.5.0",
     "model_name": "ProgressStyleModel",
     "state": {
      "_model_module": "@jupyter-widgets/controls",
      "_model_module_version": "1.5.0",
      "_model_name": "ProgressStyleModel",
      "_view_count": null,
      "_view_module": "@jupyter-widgets/base",
      "_view_module_version": "1.2.0",
      "_view_name": "StyleView",
      "bar_color": null,
      "description_width": ""
     }
    },
    "489bbe3607b740e2b5c663a5983a07fb": {
     "model_module": "@jupyter-widgets/controls",
     "model_module_version": "1.5.0",
     "model_name": "DescriptionStyleModel",
     "state": {
      "_model_module": "@jupyter-widgets/controls",
      "_model_module_version": "1.5.0",
      "_model_name": "DescriptionStyleModel",
      "_view_count": null,
      "_view_module": "@jupyter-widgets/base",
      "_view_module_version": "1.2.0",
      "_view_name": "StyleView",
      "description_width": ""
     }
    },
    "4ae1451550524c24b1d2f574735f54c5": {
     "model_module": "@jupyter-widgets/controls",
     "model_module_version": "1.5.0",
     "model_name": "HTMLModel",
     "state": {
      "_dom_classes": [],
      "_model_module": "@jupyter-widgets/controls",
      "_model_module_version": "1.5.0",
      "_model_name": "HTMLModel",
      "_view_count": null,
      "_view_module": "@jupyter-widgets/controls",
      "_view_module_version": "1.5.0",
      "_view_name": "HTMLView",
      "description": "",
      "description_tooltip": null,
      "layout": "IPY_MODEL_3d5421e579e6451a864b92031b35518b",
      "placeholder": "​",
      "style": "IPY_MODEL_10abc933db9645a4af81f7578985ffd6",
      "value": "100%"
     }
    },
    "4b81faa47eb04ccb9dbc33ec2fb98d23": {
     "model_module": "@jupyter-widgets/base",
     "model_module_version": "1.2.0",
     "model_name": "LayoutModel",
     "state": {
      "_model_module": "@jupyter-widgets/base",
      "_model_module_version": "1.2.0",
      "_model_name": "LayoutModel",
      "_view_count": null,
      "_view_module": "@jupyter-widgets/base",
      "_view_module_version": "1.2.0",
      "_view_name": "LayoutView",
      "align_content": null,
      "align_items": null,
      "align_self": null,
      "border": null,
      "bottom": null,
      "display": null,
      "flex": null,
      "flex_flow": null,
      "grid_area": null,
      "grid_auto_columns": null,
      "grid_auto_flow": null,
      "grid_auto_rows": null,
      "grid_column": null,
      "grid_gap": null,
      "grid_row": null,
      "grid_template_areas": null,
      "grid_template_columns": null,
      "grid_template_rows": null,
      "height": null,
      "justify_content": null,
      "justify_items": null,
      "left": null,
      "margin": null,
      "max_height": null,
      "max_width": null,
      "min_height": null,
      "min_width": null,
      "object_fit": null,
      "object_position": null,
      "order": null,
      "overflow": null,
      "overflow_x": null,
      "overflow_y": null,
      "padding": null,
      "right": null,
      "top": null,
      "visibility": null,
      "width": null
     }
    },
    "5470802862ee4b17b3a7f67171191241": {
     "model_module": "@jupyter-widgets/controls",
     "model_module_version": "1.5.0",
     "model_name": "HTMLModel",
     "state": {
      "_dom_classes": [],
      "_model_module": "@jupyter-widgets/controls",
      "_model_module_version": "1.5.0",
      "_model_name": "HTMLModel",
      "_view_count": null,
      "_view_module": "@jupyter-widgets/controls",
      "_view_module_version": "1.5.0",
      "_view_name": "HTMLView",
      "description": "",
      "description_tooltip": null,
      "layout": "IPY_MODEL_7b5dd42ad85149d49c564407b6c559ba",
      "placeholder": "​",
      "style": "IPY_MODEL_22008bca75ea4f4fa2215cf35ca3e937",
      "value": "100%"
     }
    },
    "547bb23041604217b7bd4e8e1558cab9": {
     "model_module": "@jupyter-widgets/base",
     "model_module_version": "1.2.0",
     "model_name": "LayoutModel",
     "state": {
      "_model_module": "@jupyter-widgets/base",
      "_model_module_version": "1.2.0",
      "_model_name": "LayoutModel",
      "_view_count": null,
      "_view_module": "@jupyter-widgets/base",
      "_view_module_version": "1.2.0",
      "_view_name": "LayoutView",
      "align_content": null,
      "align_items": null,
      "align_self": null,
      "border": null,
      "bottom": null,
      "display": null,
      "flex": null,
      "flex_flow": null,
      "grid_area": null,
      "grid_auto_columns": null,
      "grid_auto_flow": null,
      "grid_auto_rows": null,
      "grid_column": null,
      "grid_gap": null,
      "grid_row": null,
      "grid_template_areas": null,
      "grid_template_columns": null,
      "grid_template_rows": null,
      "height": null,
      "justify_content": null,
      "justify_items": null,
      "left": null,
      "margin": null,
      "max_height": null,
      "max_width": null,
      "min_height": null,
      "min_width": null,
      "object_fit": null,
      "object_position": null,
      "order": null,
      "overflow": null,
      "overflow_x": null,
      "overflow_y": null,
      "padding": null,
      "right": null,
      "top": null,
      "visibility": null,
      "width": null
     }
    },
    "5827a5ca9dbf41808995d4b25eb4a111": {
     "model_module": "@jupyter-widgets/base",
     "model_module_version": "1.2.0",
     "model_name": "LayoutModel",
     "state": {
      "_model_module": "@jupyter-widgets/base",
      "_model_module_version": "1.2.0",
      "_model_name": "LayoutModel",
      "_view_count": null,
      "_view_module": "@jupyter-widgets/base",
      "_view_module_version": "1.2.0",
      "_view_name": "LayoutView",
      "align_content": null,
      "align_items": null,
      "align_self": null,
      "border": null,
      "bottom": null,
      "display": null,
      "flex": null,
      "flex_flow": null,
      "grid_area": null,
      "grid_auto_columns": null,
      "grid_auto_flow": null,
      "grid_auto_rows": null,
      "grid_column": null,
      "grid_gap": null,
      "grid_row": null,
      "grid_template_areas": null,
      "grid_template_columns": null,
      "grid_template_rows": null,
      "height": null,
      "justify_content": null,
      "justify_items": null,
      "left": null,
      "margin": null,
      "max_height": null,
      "max_width": null,
      "min_height": null,
      "min_width": null,
      "object_fit": null,
      "object_position": null,
      "order": null,
      "overflow": null,
      "overflow_x": null,
      "overflow_y": null,
      "padding": null,
      "right": null,
      "top": null,
      "visibility": null,
      "width": null
     }
    },
    "5cb79d4e8860464799a5e76d977c9220": {
     "model_module": "@jupyter-widgets/controls",
     "model_module_version": "1.5.0",
     "model_name": "DescriptionStyleModel",
     "state": {
      "_model_module": "@jupyter-widgets/controls",
      "_model_module_version": "1.5.0",
      "_model_name": "DescriptionStyleModel",
      "_view_count": null,
      "_view_module": "@jupyter-widgets/base",
      "_view_module_version": "1.2.0",
      "_view_name": "StyleView",
      "description_width": ""
     }
    },
    "614e4f051eb345c5a6a6c7814a92bf27": {
     "model_module": "@jupyter-widgets/base",
     "model_module_version": "1.2.0",
     "model_name": "LayoutModel",
     "state": {
      "_model_module": "@jupyter-widgets/base",
      "_model_module_version": "1.2.0",
      "_model_name": "LayoutModel",
      "_view_count": null,
      "_view_module": "@jupyter-widgets/base",
      "_view_module_version": "1.2.0",
      "_view_name": "LayoutView",
      "align_content": null,
      "align_items": null,
      "align_self": null,
      "border": null,
      "bottom": null,
      "display": null,
      "flex": null,
      "flex_flow": null,
      "grid_area": null,
      "grid_auto_columns": null,
      "grid_auto_flow": null,
      "grid_auto_rows": null,
      "grid_column": null,
      "grid_gap": null,
      "grid_row": null,
      "grid_template_areas": null,
      "grid_template_columns": null,
      "grid_template_rows": null,
      "height": null,
      "justify_content": null,
      "justify_items": null,
      "left": null,
      "margin": null,
      "max_height": null,
      "max_width": null,
      "min_height": null,
      "min_width": null,
      "object_fit": null,
      "object_position": null,
      "order": null,
      "overflow": null,
      "overflow_x": null,
      "overflow_y": null,
      "padding": null,
      "right": null,
      "top": null,
      "visibility": null,
      "width": null
     }
    },
    "65766ae30dfe43158861d614bdde793a": {
     "model_module": "@jupyter-widgets/controls",
     "model_module_version": "1.5.0",
     "model_name": "FloatProgressModel",
     "state": {
      "_dom_classes": [],
      "_model_module": "@jupyter-widgets/controls",
      "_model_module_version": "1.5.0",
      "_model_name": "FloatProgressModel",
      "_view_count": null,
      "_view_module": "@jupyter-widgets/controls",
      "_view_module_version": "1.5.0",
      "_view_name": "ProgressView",
      "bar_style": "success",
      "description": "",
      "description_tooltip": null,
      "layout": "IPY_MODEL_a1981e8c12e34151a7ae1d3f2d1ff6ee",
      "max": 1,
      "min": 0,
      "orientation": "horizontal",
      "style": "IPY_MODEL_09a8bf9fcf6546f5b5a18f32e3e0e32c",
      "value": 1
     }
    },
    "6dba086cb4ae431c907ffebfe7efa588": {
     "model_module": "@jupyter-widgets/base",
     "model_module_version": "1.2.0",
     "model_name": "LayoutModel",
     "state": {
      "_model_module": "@jupyter-widgets/base",
      "_model_module_version": "1.2.0",
      "_model_name": "LayoutModel",
      "_view_count": null,
      "_view_module": "@jupyter-widgets/base",
      "_view_module_version": "1.2.0",
      "_view_name": "LayoutView",
      "align_content": null,
      "align_items": null,
      "align_self": null,
      "border": null,
      "bottom": null,
      "display": null,
      "flex": null,
      "flex_flow": null,
      "grid_area": null,
      "grid_auto_columns": null,
      "grid_auto_flow": null,
      "grid_auto_rows": null,
      "grid_column": null,
      "grid_gap": null,
      "grid_row": null,
      "grid_template_areas": null,
      "grid_template_columns": null,
      "grid_template_rows": null,
      "height": null,
      "justify_content": null,
      "justify_items": null,
      "left": null,
      "margin": null,
      "max_height": null,
      "max_width": null,
      "min_height": null,
      "min_width": null,
      "object_fit": null,
      "object_position": null,
      "order": null,
      "overflow": null,
      "overflow_x": null,
      "overflow_y": null,
      "padding": null,
      "right": null,
      "top": null,
      "visibility": null,
      "width": null
     }
    },
    "6e2be42af44a4ee29a4b9e338cff8bce": {
     "model_module": "@jupyter-widgets/controls",
     "model_module_version": "1.5.0",
     "model_name": "HTMLModel",
     "state": {
      "_dom_classes": [],
      "_model_module": "@jupyter-widgets/controls",
      "_model_module_version": "1.5.0",
      "_model_name": "HTMLModel",
      "_view_count": null,
      "_view_module": "@jupyter-widgets/controls",
      "_view_module_version": "1.5.0",
      "_view_name": "HTMLView",
      "description": "",
      "description_tooltip": null,
      "layout": "IPY_MODEL_ec436c6536d94e868980223f75b55ee7",
      "placeholder": "​",
      "style": "IPY_MODEL_5cb79d4e8860464799a5e76d977c9220",
      "value": " 1/1 [00:00&lt;00:00,  1.66it/s]"
     }
    },
    "714097c87a7141f1be256ec879f065e8": {
     "model_module": "@jupyter-widgets/controls",
     "model_module_version": "1.5.0",
     "model_name": "DescriptionStyleModel",
     "state": {
      "_model_module": "@jupyter-widgets/controls",
      "_model_module_version": "1.5.0",
      "_model_name": "DescriptionStyleModel",
      "_view_count": null,
      "_view_module": "@jupyter-widgets/base",
      "_view_module_version": "1.2.0",
      "_view_name": "StyleView",
      "description_width": ""
     }
    },
    "7341e1ccbaa842f69e0f34c68eb24654": {
     "model_module": "@jupyter-widgets/controls",
     "model_module_version": "1.5.0",
     "model_name": "HTMLModel",
     "state": {
      "_dom_classes": [],
      "_model_module": "@jupyter-widgets/controls",
      "_model_module_version": "1.5.0",
      "_model_name": "HTMLModel",
      "_view_count": null,
      "_view_module": "@jupyter-widgets/controls",
      "_view_module_version": "1.5.0",
      "_view_name": "HTMLView",
      "description": "",
      "description_tooltip": null,
      "layout": "IPY_MODEL_feb2c63c6013485fa746460b91afc9cd",
      "placeholder": "​",
      "style": "IPY_MODEL_ade5f54fa00e400a8864ba05f4b63ce6",
      "value": " 1/1 [00:00&lt;00:00,  2.85it/s]"
     }
    },
    "766aa67bd4d64a1d819e7aeed0fc78bc": {
     "model_module": "@jupyter-widgets/base",
     "model_module_version": "1.2.0",
     "model_name": "LayoutModel",
     "state": {
      "_model_module": "@jupyter-widgets/base",
      "_model_module_version": "1.2.0",
      "_model_name": "LayoutModel",
      "_view_count": null,
      "_view_module": "@jupyter-widgets/base",
      "_view_module_version": "1.2.0",
      "_view_name": "LayoutView",
      "align_content": null,
      "align_items": null,
      "align_self": null,
      "border": null,
      "bottom": null,
      "display": null,
      "flex": null,
      "flex_flow": null,
      "grid_area": null,
      "grid_auto_columns": null,
      "grid_auto_flow": null,
      "grid_auto_rows": null,
      "grid_column": null,
      "grid_gap": null,
      "grid_row": null,
      "grid_template_areas": null,
      "grid_template_columns": null,
      "grid_template_rows": null,
      "height": null,
      "justify_content": null,
      "justify_items": null,
      "left": null,
      "margin": null,
      "max_height": null,
      "max_width": null,
      "min_height": null,
      "min_width": null,
      "object_fit": null,
      "object_position": null,
      "order": null,
      "overflow": null,
      "overflow_x": null,
      "overflow_y": null,
      "padding": null,
      "right": null,
      "top": null,
      "visibility": null,
      "width": null
     }
    },
    "7807adb515a14de99895c3dff3a28146": {
     "model_module": "@jupyter-widgets/controls",
     "model_module_version": "1.5.0",
     "model_name": "HBoxModel",
     "state": {
      "_dom_classes": [],
      "_model_module": "@jupyter-widgets/controls",
      "_model_module_version": "1.5.0",
      "_model_name": "HBoxModel",
      "_view_count": null,
      "_view_module": "@jupyter-widgets/controls",
      "_view_module_version": "1.5.0",
      "_view_name": "HBoxView",
      "box_style": "",
      "children": [
       "IPY_MODEL_31f73ed446324cac8e9e19325cb101c5",
       "IPY_MODEL_3af734b8d5a543fb9a0eebef8cb0f5f5",
       "IPY_MODEL_7341e1ccbaa842f69e0f34c68eb24654"
      ],
      "layout": "IPY_MODEL_5827a5ca9dbf41808995d4b25eb4a111"
     }
    },
    "7b5dd42ad85149d49c564407b6c559ba": {
     "model_module": "@jupyter-widgets/base",
     "model_module_version": "1.2.0",
     "model_name": "LayoutModel",
     "state": {
      "_model_module": "@jupyter-widgets/base",
      "_model_module_version": "1.2.0",
      "_model_name": "LayoutModel",
      "_view_count": null,
      "_view_module": "@jupyter-widgets/base",
      "_view_module_version": "1.2.0",
      "_view_name": "LayoutView",
      "align_content": null,
      "align_items": null,
      "align_self": null,
      "border": null,
      "bottom": null,
      "display": null,
      "flex": null,
      "flex_flow": null,
      "grid_area": null,
      "grid_auto_columns": null,
      "grid_auto_flow": null,
      "grid_auto_rows": null,
      "grid_column": null,
      "grid_gap": null,
      "grid_row": null,
      "grid_template_areas": null,
      "grid_template_columns": null,
      "grid_template_rows": null,
      "height": null,
      "justify_content": null,
      "justify_items": null,
      "left": null,
      "margin": null,
      "max_height": null,
      "max_width": null,
      "min_height": null,
      "min_width": null,
      "object_fit": null,
      "object_position": null,
      "order": null,
      "overflow": null,
      "overflow_x": null,
      "overflow_y": null,
      "padding": null,
      "right": null,
      "top": null,
      "visibility": null,
      "width": null
     }
    },
    "815e58cbd97f4c88b41cc12521b933d1": {
     "model_module": "@jupyter-widgets/controls",
     "model_module_version": "1.5.0",
     "model_name": "FloatProgressModel",
     "state": {
      "_dom_classes": [],
      "_model_module": "@jupyter-widgets/controls",
      "_model_module_version": "1.5.0",
      "_model_name": "FloatProgressModel",
      "_view_count": null,
      "_view_module": "@jupyter-widgets/controls",
      "_view_module_version": "1.5.0",
      "_view_name": "ProgressView",
      "bar_style": "success",
      "description": "",
      "description_tooltip": null,
      "layout": "IPY_MODEL_547bb23041604217b7bd4e8e1558cab9",
      "max": 1,
      "min": 0,
      "orientation": "horizontal",
      "style": "IPY_MODEL_3ee0f34d2ed942cd84361fe9489622ec",
      "value": 1
     }
    },
    "839cfead3c694ac3877284f97e9f8f26": {
     "model_module": "@jupyter-widgets/controls",
     "model_module_version": "1.5.0",
     "model_name": "HTMLModel",
     "state": {
      "_dom_classes": [],
      "_model_module": "@jupyter-widgets/controls",
      "_model_module_version": "1.5.0",
      "_model_name": "HTMLModel",
      "_view_count": null,
      "_view_module": "@jupyter-widgets/controls",
      "_view_module_version": "1.5.0",
      "_view_name": "HTMLView",
      "description": "",
      "description_tooltip": null,
      "layout": "IPY_MODEL_766aa67bd4d64a1d819e7aeed0fc78bc",
      "placeholder": "​",
      "style": "IPY_MODEL_29e07d7449c54003886c1a76a7a825b7",
      "value": " 1/1 [00:00&lt;00:00,  2.84it/s]"
     }
    },
    "88d417193eab4c4c873d98171c16a4c2": {
     "model_module": "@jupyter-widgets/controls",
     "model_module_version": "1.5.0",
     "model_name": "HBoxModel",
     "state": {
      "_dom_classes": [],
      "_model_module": "@jupyter-widgets/controls",
      "_model_module_version": "1.5.0",
      "_model_name": "HBoxModel",
      "_view_count": null,
      "_view_module": "@jupyter-widgets/controls",
      "_view_module_version": "1.5.0",
      "_view_name": "HBoxView",
      "box_style": "",
      "children": [
       "IPY_MODEL_c42095908ff341c8af69500273a3c223",
       "IPY_MODEL_98fefecf8aaf417cad46639dbf446fa8",
       "IPY_MODEL_22c35d47e7ca4e769766cd243f7f1954"
      ],
      "layout": "IPY_MODEL_99ebf7e51f4249aebf90710c25591a43"
     }
    },
    "8a2d02bc1706449c895de0ae4e85da1c": {
     "model_module": "@jupyter-widgets/base",
     "model_module_version": "1.2.0",
     "model_name": "LayoutModel",
     "state": {
      "_model_module": "@jupyter-widgets/base",
      "_model_module_version": "1.2.0",
      "_model_name": "LayoutModel",
      "_view_count": null,
      "_view_module": "@jupyter-widgets/base",
      "_view_module_version": "1.2.0",
      "_view_name": "LayoutView",
      "align_content": null,
      "align_items": null,
      "align_self": null,
      "border": null,
      "bottom": null,
      "display": null,
      "flex": null,
      "flex_flow": null,
      "grid_area": null,
      "grid_auto_columns": null,
      "grid_auto_flow": null,
      "grid_auto_rows": null,
      "grid_column": null,
      "grid_gap": null,
      "grid_row": null,
      "grid_template_areas": null,
      "grid_template_columns": null,
      "grid_template_rows": null,
      "height": null,
      "justify_content": null,
      "justify_items": null,
      "left": null,
      "margin": null,
      "max_height": null,
      "max_width": null,
      "min_height": null,
      "min_width": null,
      "object_fit": null,
      "object_position": null,
      "order": null,
      "overflow": null,
      "overflow_x": null,
      "overflow_y": null,
      "padding": null,
      "right": null,
      "top": null,
      "visibility": null,
      "width": null
     }
    },
    "912eb391efa64faa9f82939ca9dfe713": {
     "model_module": "@jupyter-widgets/base",
     "model_module_version": "1.2.0",
     "model_name": "LayoutModel",
     "state": {
      "_model_module": "@jupyter-widgets/base",
      "_model_module_version": "1.2.0",
      "_model_name": "LayoutModel",
      "_view_count": null,
      "_view_module": "@jupyter-widgets/base",
      "_view_module_version": "1.2.0",
      "_view_name": "LayoutView",
      "align_content": null,
      "align_items": null,
      "align_self": null,
      "border": null,
      "bottom": null,
      "display": null,
      "flex": null,
      "flex_flow": null,
      "grid_area": null,
      "grid_auto_columns": null,
      "grid_auto_flow": null,
      "grid_auto_rows": null,
      "grid_column": null,
      "grid_gap": null,
      "grid_row": null,
      "grid_template_areas": null,
      "grid_template_columns": null,
      "grid_template_rows": null,
      "height": null,
      "justify_content": null,
      "justify_items": null,
      "left": null,
      "margin": null,
      "max_height": null,
      "max_width": null,
      "min_height": null,
      "min_width": null,
      "object_fit": null,
      "object_position": null,
      "order": null,
      "overflow": null,
      "overflow_x": null,
      "overflow_y": null,
      "padding": null,
      "right": null,
      "top": null,
      "visibility": null,
      "width": null
     }
    },
    "980917a641d04b3bb19280d166413b61": {
     "model_module": "@jupyter-widgets/controls",
     "model_module_version": "1.5.0",
     "model_name": "HTMLModel",
     "state": {
      "_dom_classes": [],
      "_model_module": "@jupyter-widgets/controls",
      "_model_module_version": "1.5.0",
      "_model_name": "HTMLModel",
      "_view_count": null,
      "_view_module": "@jupyter-widgets/controls",
      "_view_module_version": "1.5.0",
      "_view_name": "HTMLView",
      "description": "",
      "description_tooltip": null,
      "layout": "IPY_MODEL_912eb391efa64faa9f82939ca9dfe713",
      "placeholder": "​",
      "style": "IPY_MODEL_172dba28011045ffad6d332af5fa5fa7",
      "value": " 1/1 [00:00&lt;00:00,  1.59it/s]"
     }
    },
    "98fefecf8aaf417cad46639dbf446fa8": {
     "model_module": "@jupyter-widgets/controls",
     "model_module_version": "1.5.0",
     "model_name": "FloatProgressModel",
     "state": {
      "_dom_classes": [],
      "_model_module": "@jupyter-widgets/controls",
      "_model_module_version": "1.5.0",
      "_model_name": "FloatProgressModel",
      "_view_count": null,
      "_view_module": "@jupyter-widgets/controls",
      "_view_module_version": "1.5.0",
      "_view_name": "ProgressView",
      "bar_style": "success",
      "description": "",
      "description_tooltip": null,
      "layout": "IPY_MODEL_bf721946745f421a9f85c0c6c5ccffef",
      "max": 1,
      "min": 0,
      "orientation": "horizontal",
      "style": "IPY_MODEL_3489efddb44f40f09e12fc7530466990",
      "value": 1
     }
    },
    "99ebf7e51f4249aebf90710c25591a43": {
     "model_module": "@jupyter-widgets/base",
     "model_module_version": "1.2.0",
     "model_name": "LayoutModel",
     "state": {
      "_model_module": "@jupyter-widgets/base",
      "_model_module_version": "1.2.0",
      "_model_name": "LayoutModel",
      "_view_count": null,
      "_view_module": "@jupyter-widgets/base",
      "_view_module_version": "1.2.0",
      "_view_name": "LayoutView",
      "align_content": null,
      "align_items": null,
      "align_self": null,
      "border": null,
      "bottom": null,
      "display": null,
      "flex": null,
      "flex_flow": null,
      "grid_area": null,
      "grid_auto_columns": null,
      "grid_auto_flow": null,
      "grid_auto_rows": null,
      "grid_column": null,
      "grid_gap": null,
      "grid_row": null,
      "grid_template_areas": null,
      "grid_template_columns": null,
      "grid_template_rows": null,
      "height": null,
      "justify_content": null,
      "justify_items": null,
      "left": null,
      "margin": null,
      "max_height": null,
      "max_width": null,
      "min_height": null,
      "min_width": null,
      "object_fit": null,
      "object_position": null,
      "order": null,
      "overflow": null,
      "overflow_x": null,
      "overflow_y": null,
      "padding": null,
      "right": null,
      "top": null,
      "visibility": null,
      "width": null
     }
    },
    "9ebe6bbe889b4f9e9fd58a7553b08d45": {
     "model_module": "@jupyter-widgets/base",
     "model_module_version": "1.2.0",
     "model_name": "LayoutModel",
     "state": {
      "_model_module": "@jupyter-widgets/base",
      "_model_module_version": "1.2.0",
      "_model_name": "LayoutModel",
      "_view_count": null,
      "_view_module": "@jupyter-widgets/base",
      "_view_module_version": "1.2.0",
      "_view_name": "LayoutView",
      "align_content": null,
      "align_items": null,
      "align_self": null,
      "border": null,
      "bottom": null,
      "display": null,
      "flex": null,
      "flex_flow": null,
      "grid_area": null,
      "grid_auto_columns": null,
      "grid_auto_flow": null,
      "grid_auto_rows": null,
      "grid_column": null,
      "grid_gap": null,
      "grid_row": null,
      "grid_template_areas": null,
      "grid_template_columns": null,
      "grid_template_rows": null,
      "height": null,
      "justify_content": null,
      "justify_items": null,
      "left": null,
      "margin": null,
      "max_height": null,
      "max_width": null,
      "min_height": null,
      "min_width": null,
      "object_fit": null,
      "object_position": null,
      "order": null,
      "overflow": null,
      "overflow_x": null,
      "overflow_y": null,
      "padding": null,
      "right": null,
      "top": null,
      "visibility": null,
      "width": null
     }
    },
    "9f3cafa11cc149a6988ce74ad3bd743c": {
     "model_module": "@jupyter-widgets/controls",
     "model_module_version": "1.5.0",
     "model_name": "DescriptionStyleModel",
     "state": {
      "_model_module": "@jupyter-widgets/controls",
      "_model_module_version": "1.5.0",
      "_model_name": "DescriptionStyleModel",
      "_view_count": null,
      "_view_module": "@jupyter-widgets/base",
      "_view_module_version": "1.2.0",
      "_view_name": "StyleView",
      "description_width": ""
     }
    },
    "a0b4ce5c988041d0a035308366fc50cf": {
     "model_module": "@jupyter-widgets/controls",
     "model_module_version": "1.5.0",
     "model_name": "HTMLModel",
     "state": {
      "_dom_classes": [],
      "_model_module": "@jupyter-widgets/controls",
      "_model_module_version": "1.5.0",
      "_model_name": "HTMLModel",
      "_view_count": null,
      "_view_module": "@jupyter-widgets/controls",
      "_view_module_version": "1.5.0",
      "_view_name": "HTMLView",
      "description": "",
      "description_tooltip": null,
      "layout": "IPY_MODEL_4b81faa47eb04ccb9dbc33ec2fb98d23",
      "placeholder": "​",
      "style": "IPY_MODEL_d3585db99d234f70a70dbe2c2c596ceb",
      "value": " 1/1 [00:00&lt;00:00,  1.66it/s]"
     }
    },
    "a1373d274b7b41abbf433d78624bf7cd": {
     "model_module": "@jupyter-widgets/base",
     "model_module_version": "1.2.0",
     "model_name": "LayoutModel",
     "state": {
      "_model_module": "@jupyter-widgets/base",
      "_model_module_version": "1.2.0",
      "_model_name": "LayoutModel",
      "_view_count": null,
      "_view_module": "@jupyter-widgets/base",
      "_view_module_version": "1.2.0",
      "_view_name": "LayoutView",
      "align_content": null,
      "align_items": null,
      "align_self": null,
      "border": null,
      "bottom": null,
      "display": null,
      "flex": null,
      "flex_flow": null,
      "grid_area": null,
      "grid_auto_columns": null,
      "grid_auto_flow": null,
      "grid_auto_rows": null,
      "grid_column": null,
      "grid_gap": null,
      "grid_row": null,
      "grid_template_areas": null,
      "grid_template_columns": null,
      "grid_template_rows": null,
      "height": null,
      "justify_content": null,
      "justify_items": null,
      "left": null,
      "margin": null,
      "max_height": null,
      "max_width": null,
      "min_height": null,
      "min_width": null,
      "object_fit": null,
      "object_position": null,
      "order": null,
      "overflow": null,
      "overflow_x": null,
      "overflow_y": null,
      "padding": null,
      "right": null,
      "top": null,
      "visibility": null,
      "width": null
     }
    },
    "a1981e8c12e34151a7ae1d3f2d1ff6ee": {
     "model_module": "@jupyter-widgets/base",
     "model_module_version": "1.2.0",
     "model_name": "LayoutModel",
     "state": {
      "_model_module": "@jupyter-widgets/base",
      "_model_module_version": "1.2.0",
      "_model_name": "LayoutModel",
      "_view_count": null,
      "_view_module": "@jupyter-widgets/base",
      "_view_module_version": "1.2.0",
      "_view_name": "LayoutView",
      "align_content": null,
      "align_items": null,
      "align_self": null,
      "border": null,
      "bottom": null,
      "display": null,
      "flex": null,
      "flex_flow": null,
      "grid_area": null,
      "grid_auto_columns": null,
      "grid_auto_flow": null,
      "grid_auto_rows": null,
      "grid_column": null,
      "grid_gap": null,
      "grid_row": null,
      "grid_template_areas": null,
      "grid_template_columns": null,
      "grid_template_rows": null,
      "height": null,
      "justify_content": null,
      "justify_items": null,
      "left": null,
      "margin": null,
      "max_height": null,
      "max_width": null,
      "min_height": null,
      "min_width": null,
      "object_fit": null,
      "object_position": null,
      "order": null,
      "overflow": null,
      "overflow_x": null,
      "overflow_y": null,
      "padding": null,
      "right": null,
      "top": null,
      "visibility": null,
      "width": null
     }
    },
    "a330531b139143ca80e0e574d79667a4": {
     "model_module": "@jupyter-widgets/base",
     "model_module_version": "1.2.0",
     "model_name": "LayoutModel",
     "state": {
      "_model_module": "@jupyter-widgets/base",
      "_model_module_version": "1.2.0",
      "_model_name": "LayoutModel",
      "_view_count": null,
      "_view_module": "@jupyter-widgets/base",
      "_view_module_version": "1.2.0",
      "_view_name": "LayoutView",
      "align_content": null,
      "align_items": null,
      "align_self": null,
      "border": null,
      "bottom": null,
      "display": null,
      "flex": null,
      "flex_flow": null,
      "grid_area": null,
      "grid_auto_columns": null,
      "grid_auto_flow": null,
      "grid_auto_rows": null,
      "grid_column": null,
      "grid_gap": null,
      "grid_row": null,
      "grid_template_areas": null,
      "grid_template_columns": null,
      "grid_template_rows": null,
      "height": null,
      "justify_content": null,
      "justify_items": null,
      "left": null,
      "margin": null,
      "max_height": null,
      "max_width": null,
      "min_height": null,
      "min_width": null,
      "object_fit": null,
      "object_position": null,
      "order": null,
      "overflow": null,
      "overflow_x": null,
      "overflow_y": null,
      "padding": null,
      "right": null,
      "top": null,
      "visibility": null,
      "width": null
     }
    },
    "a6d344766e724cc2adde44ed156a99e3": {
     "model_module": "@jupyter-widgets/controls",
     "model_module_version": "1.5.0",
     "model_name": "HTMLModel",
     "state": {
      "_dom_classes": [],
      "_model_module": "@jupyter-widgets/controls",
      "_model_module_version": "1.5.0",
      "_model_name": "HTMLModel",
      "_view_count": null,
      "_view_module": "@jupyter-widgets/controls",
      "_view_module_version": "1.5.0",
      "_view_name": "HTMLView",
      "description": "",
      "description_tooltip": null,
      "layout": "IPY_MODEL_9ebe6bbe889b4f9e9fd58a7553b08d45",
      "placeholder": "​",
      "style": "IPY_MODEL_df1b5353c28f478fb7bfee20bdd2983e",
      "value": " 1/1 [00:00&lt;00:00,  2.40it/s]"
     }
    },
    "adbc32fb72524b8891a5e759f64eeffa": {
     "model_module": "@jupyter-widgets/base",
     "model_module_version": "1.2.0",
     "model_name": "LayoutModel",
     "state": {
      "_model_module": "@jupyter-widgets/base",
      "_model_module_version": "1.2.0",
      "_model_name": "LayoutModel",
      "_view_count": null,
      "_view_module": "@jupyter-widgets/base",
      "_view_module_version": "1.2.0",
      "_view_name": "LayoutView",
      "align_content": null,
      "align_items": null,
      "align_self": null,
      "border": null,
      "bottom": null,
      "display": null,
      "flex": null,
      "flex_flow": null,
      "grid_area": null,
      "grid_auto_columns": null,
      "grid_auto_flow": null,
      "grid_auto_rows": null,
      "grid_column": null,
      "grid_gap": null,
      "grid_row": null,
      "grid_template_areas": null,
      "grid_template_columns": null,
      "grid_template_rows": null,
      "height": null,
      "justify_content": null,
      "justify_items": null,
      "left": null,
      "margin": null,
      "max_height": null,
      "max_width": null,
      "min_height": null,
      "min_width": null,
      "object_fit": null,
      "object_position": null,
      "order": null,
      "overflow": null,
      "overflow_x": null,
      "overflow_y": null,
      "padding": null,
      "right": null,
      "top": null,
      "visibility": null,
      "width": null
     }
    },
    "adce4de9637948ad8710274719f35bd4": {
     "model_module": "@jupyter-widgets/controls",
     "model_module_version": "1.5.0",
     "model_name": "FloatProgressModel",
     "state": {
      "_dom_classes": [],
      "_model_module": "@jupyter-widgets/controls",
      "_model_module_version": "1.5.0",
      "_model_name": "FloatProgressModel",
      "_view_count": null,
      "_view_module": "@jupyter-widgets/controls",
      "_view_module_version": "1.5.0",
      "_view_name": "ProgressView",
      "bar_style": "success",
      "description": "",
      "description_tooltip": null,
      "layout": "IPY_MODEL_d89269d16f474717b595e3551803946b",
      "max": 1,
      "min": 0,
      "orientation": "horizontal",
      "style": "IPY_MODEL_146e118caa974a26a260e0f8baba3b6a",
      "value": 1
     }
    },
    "ade5f54fa00e400a8864ba05f4b63ce6": {
     "model_module": "@jupyter-widgets/controls",
     "model_module_version": "1.5.0",
     "model_name": "DescriptionStyleModel",
     "state": {
      "_model_module": "@jupyter-widgets/controls",
      "_model_module_version": "1.5.0",
      "_model_name": "DescriptionStyleModel",
      "_view_count": null,
      "_view_module": "@jupyter-widgets/base",
      "_view_module_version": "1.2.0",
      "_view_name": "StyleView",
      "description_width": ""
     }
    },
    "b702d0027ef74b1ab149e090e5fcb14d": {
     "model_module": "@jupyter-widgets/controls",
     "model_module_version": "1.5.0",
     "model_name": "HBoxModel",
     "state": {
      "_dom_classes": [],
      "_model_module": "@jupyter-widgets/controls",
      "_model_module_version": "1.5.0",
      "_model_name": "HBoxModel",
      "_view_count": null,
      "_view_module": "@jupyter-widgets/controls",
      "_view_module_version": "1.5.0",
      "_view_name": "HBoxView",
      "box_style": "",
      "children": [
       "IPY_MODEL_5470802862ee4b17b3a7f67171191241",
       "IPY_MODEL_815e58cbd97f4c88b41cc12521b933d1",
       "IPY_MODEL_839cfead3c694ac3877284f97e9f8f26"
      ],
      "layout": "IPY_MODEL_de786e5ca95b44ff812ac51383a87842"
     }
    },
    "b7d8843fe8c04435848f0bf958e2b411": {
     "model_module": "@jupyter-widgets/controls",
     "model_module_version": "1.5.0",
     "model_name": "HTMLModel",
     "state": {
      "_dom_classes": [],
      "_model_module": "@jupyter-widgets/controls",
      "_model_module_version": "1.5.0",
      "_model_name": "HTMLModel",
      "_view_count": null,
      "_view_module": "@jupyter-widgets/controls",
      "_view_module_version": "1.5.0",
      "_view_name": "HTMLView",
      "description": "",
      "description_tooltip": null,
      "layout": "IPY_MODEL_e18ce856d88442f8a8a1de7b34ef9ea8",
      "placeholder": "​",
      "style": "IPY_MODEL_21ab079875fd483cabbd4d2501e019ce",
      "value": "100%"
     }
    },
    "bacf2cbcc23046abbe974e0f8c5c0979": {
     "model_module": "@jupyter-widgets/base",
     "model_module_version": "1.2.0",
     "model_name": "LayoutModel",
     "state": {
      "_model_module": "@jupyter-widgets/base",
      "_model_module_version": "1.2.0",
      "_model_name": "LayoutModel",
      "_view_count": null,
      "_view_module": "@jupyter-widgets/base",
      "_view_module_version": "1.2.0",
      "_view_name": "LayoutView",
      "align_content": null,
      "align_items": null,
      "align_self": null,
      "border": null,
      "bottom": null,
      "display": null,
      "flex": null,
      "flex_flow": null,
      "grid_area": null,
      "grid_auto_columns": null,
      "grid_auto_flow": null,
      "grid_auto_rows": null,
      "grid_column": null,
      "grid_gap": null,
      "grid_row": null,
      "grid_template_areas": null,
      "grid_template_columns": null,
      "grid_template_rows": null,
      "height": null,
      "justify_content": null,
      "justify_items": null,
      "left": null,
      "margin": null,
      "max_height": null,
      "max_width": null,
      "min_height": null,
      "min_width": null,
      "object_fit": null,
      "object_position": null,
      "order": null,
      "overflow": null,
      "overflow_x": null,
      "overflow_y": null,
      "padding": null,
      "right": null,
      "top": null,
      "visibility": null,
      "width": null
     }
    },
    "bf721946745f421a9f85c0c6c5ccffef": {
     "model_module": "@jupyter-widgets/base",
     "model_module_version": "1.2.0",
     "model_name": "LayoutModel",
     "state": {
      "_model_module": "@jupyter-widgets/base",
      "_model_module_version": "1.2.0",
      "_model_name": "LayoutModel",
      "_view_count": null,
      "_view_module": "@jupyter-widgets/base",
      "_view_module_version": "1.2.0",
      "_view_name": "LayoutView",
      "align_content": null,
      "align_items": null,
      "align_self": null,
      "border": null,
      "bottom": null,
      "display": null,
      "flex": null,
      "flex_flow": null,
      "grid_area": null,
      "grid_auto_columns": null,
      "grid_auto_flow": null,
      "grid_auto_rows": null,
      "grid_column": null,
      "grid_gap": null,
      "grid_row": null,
      "grid_template_areas": null,
      "grid_template_columns": null,
      "grid_template_rows": null,
      "height": null,
      "justify_content": null,
      "justify_items": null,
      "left": null,
      "margin": null,
      "max_height": null,
      "max_width": null,
      "min_height": null,
      "min_width": null,
      "object_fit": null,
      "object_position": null,
      "order": null,
      "overflow": null,
      "overflow_x": null,
      "overflow_y": null,
      "padding": null,
      "right": null,
      "top": null,
      "visibility": null,
      "width": null
     }
    },
    "c360dcd97637430ca3c73ff95757ddf9": {
     "model_module": "@jupyter-widgets/base",
     "model_module_version": "1.2.0",
     "model_name": "LayoutModel",
     "state": {
      "_model_module": "@jupyter-widgets/base",
      "_model_module_version": "1.2.0",
      "_model_name": "LayoutModel",
      "_view_count": null,
      "_view_module": "@jupyter-widgets/base",
      "_view_module_version": "1.2.0",
      "_view_name": "LayoutView",
      "align_content": null,
      "align_items": null,
      "align_self": null,
      "border": null,
      "bottom": null,
      "display": null,
      "flex": null,
      "flex_flow": null,
      "grid_area": null,
      "grid_auto_columns": null,
      "grid_auto_flow": null,
      "grid_auto_rows": null,
      "grid_column": null,
      "grid_gap": null,
      "grid_row": null,
      "grid_template_areas": null,
      "grid_template_columns": null,
      "grid_template_rows": null,
      "height": null,
      "justify_content": null,
      "justify_items": null,
      "left": null,
      "margin": null,
      "max_height": null,
      "max_width": null,
      "min_height": null,
      "min_width": null,
      "object_fit": null,
      "object_position": null,
      "order": null,
      "overflow": null,
      "overflow_x": null,
      "overflow_y": null,
      "padding": null,
      "right": null,
      "top": null,
      "visibility": null,
      "width": null
     }
    },
    "c42095908ff341c8af69500273a3c223": {
     "model_module": "@jupyter-widgets/controls",
     "model_module_version": "1.5.0",
     "model_name": "HTMLModel",
     "state": {
      "_dom_classes": [],
      "_model_module": "@jupyter-widgets/controls",
      "_model_module_version": "1.5.0",
      "_model_name": "HTMLModel",
      "_view_count": null,
      "_view_module": "@jupyter-widgets/controls",
      "_view_module_version": "1.5.0",
      "_view_name": "HTMLView",
      "description": "",
      "description_tooltip": null,
      "layout": "IPY_MODEL_3cad34d74f2c469e8ba9ccf085bd7651",
      "placeholder": "​",
      "style": "IPY_MODEL_27bce7ed790245e194450f29a2734ce6",
      "value": "100%"
     }
    },
    "c5cc621184044acba3317a926b979502": {
     "model_module": "@jupyter-widgets/controls",
     "model_module_version": "1.5.0",
     "model_name": "HBoxModel",
     "state": {
      "_dom_classes": [],
      "_model_module": "@jupyter-widgets/controls",
      "_model_module_version": "1.5.0",
      "_model_name": "HBoxModel",
      "_view_count": null,
      "_view_module": "@jupyter-widgets/controls",
      "_view_module_version": "1.5.0",
      "_view_name": "HBoxView",
      "box_style": "",
      "children": [
       "IPY_MODEL_3759593097ff4ecdb6a86c56b8027281",
       "IPY_MODEL_38abb82854fe4748a6fb2c6fc50bd7ef",
       "IPY_MODEL_a0b4ce5c988041d0a035308366fc50cf"
      ],
      "layout": "IPY_MODEL_1d2af328d1144a889a787004571e1e63"
     }
    },
    "ce04a1959f5c4ca99ed94b2107b9eb86": {
     "model_module": "@jupyter-widgets/controls",
     "model_module_version": "1.5.0",
     "model_name": "ProgressStyleModel",
     "state": {
      "_model_module": "@jupyter-widgets/controls",
      "_model_module_version": "1.5.0",
      "_model_name": "ProgressStyleModel",
      "_view_count": null,
      "_view_module": "@jupyter-widgets/base",
      "_view_module_version": "1.2.0",
      "_view_name": "StyleView",
      "bar_color": null,
      "description_width": ""
     }
    },
    "d3585db99d234f70a70dbe2c2c596ceb": {
     "model_module": "@jupyter-widgets/controls",
     "model_module_version": "1.5.0",
     "model_name": "DescriptionStyleModel",
     "state": {
      "_model_module": "@jupyter-widgets/controls",
      "_model_module_version": "1.5.0",
      "_model_name": "DescriptionStyleModel",
      "_view_count": null,
      "_view_module": "@jupyter-widgets/base",
      "_view_module_version": "1.2.0",
      "_view_name": "StyleView",
      "description_width": ""
     }
    },
    "d448124782b54432b9b7274e3bf78c01": {
     "model_module": "@jupyter-widgets/controls",
     "model_module_version": "1.5.0",
     "model_name": "HBoxModel",
     "state": {
      "_dom_classes": [],
      "_model_module": "@jupyter-widgets/controls",
      "_model_module_version": "1.5.0",
      "_model_name": "HBoxModel",
      "_view_count": null,
      "_view_module": "@jupyter-widgets/controls",
      "_view_module_version": "1.5.0",
      "_view_name": "HBoxView",
      "box_style": "",
      "children": [
       "IPY_MODEL_b7d8843fe8c04435848f0bf958e2b411",
       "IPY_MODEL_adce4de9637948ad8710274719f35bd4",
       "IPY_MODEL_1639be6dfaff4b799594484d9f4a440a"
      ],
      "layout": "IPY_MODEL_bacf2cbcc23046abbe974e0f8c5c0979"
     }
    },
    "d89269d16f474717b595e3551803946b": {
     "model_module": "@jupyter-widgets/base",
     "model_module_version": "1.2.0",
     "model_name": "LayoutModel",
     "state": {
      "_model_module": "@jupyter-widgets/base",
      "_model_module_version": "1.2.0",
      "_model_name": "LayoutModel",
      "_view_count": null,
      "_view_module": "@jupyter-widgets/base",
      "_view_module_version": "1.2.0",
      "_view_name": "LayoutView",
      "align_content": null,
      "align_items": null,
      "align_self": null,
      "border": null,
      "bottom": null,
      "display": null,
      "flex": null,
      "flex_flow": null,
      "grid_area": null,
      "grid_auto_columns": null,
      "grid_auto_flow": null,
      "grid_auto_rows": null,
      "grid_column": null,
      "grid_gap": null,
      "grid_row": null,
      "grid_template_areas": null,
      "grid_template_columns": null,
      "grid_template_rows": null,
      "height": null,
      "justify_content": null,
      "justify_items": null,
      "left": null,
      "margin": null,
      "max_height": null,
      "max_width": null,
      "min_height": null,
      "min_width": null,
      "object_fit": null,
      "object_position": null,
      "order": null,
      "overflow": null,
      "overflow_x": null,
      "overflow_y": null,
      "padding": null,
      "right": null,
      "top": null,
      "visibility": null,
      "width": null
     }
    },
    "da2e434757e6440b8f5ac0739ea88a29": {
     "model_module": "@jupyter-widgets/base",
     "model_module_version": "1.2.0",
     "model_name": "LayoutModel",
     "state": {
      "_model_module": "@jupyter-widgets/base",
      "_model_module_version": "1.2.0",
      "_model_name": "LayoutModel",
      "_view_count": null,
      "_view_module": "@jupyter-widgets/base",
      "_view_module_version": "1.2.0",
      "_view_name": "LayoutView",
      "align_content": null,
      "align_items": null,
      "align_self": null,
      "border": null,
      "bottom": null,
      "display": null,
      "flex": null,
      "flex_flow": null,
      "grid_area": null,
      "grid_auto_columns": null,
      "grid_auto_flow": null,
      "grid_auto_rows": null,
      "grid_column": null,
      "grid_gap": null,
      "grid_row": null,
      "grid_template_areas": null,
      "grid_template_columns": null,
      "grid_template_rows": null,
      "height": null,
      "justify_content": null,
      "justify_items": null,
      "left": null,
      "margin": null,
      "max_height": null,
      "max_width": null,
      "min_height": null,
      "min_width": null,
      "object_fit": null,
      "object_position": null,
      "order": null,
      "overflow": null,
      "overflow_x": null,
      "overflow_y": null,
      "padding": null,
      "right": null,
      "top": null,
      "visibility": null,
      "width": null
     }
    },
    "de786e5ca95b44ff812ac51383a87842": {
     "model_module": "@jupyter-widgets/base",
     "model_module_version": "1.2.0",
     "model_name": "LayoutModel",
     "state": {
      "_model_module": "@jupyter-widgets/base",
      "_model_module_version": "1.2.0",
      "_model_name": "LayoutModel",
      "_view_count": null,
      "_view_module": "@jupyter-widgets/base",
      "_view_module_version": "1.2.0",
      "_view_name": "LayoutView",
      "align_content": null,
      "align_items": null,
      "align_self": null,
      "border": null,
      "bottom": null,
      "display": null,
      "flex": null,
      "flex_flow": null,
      "grid_area": null,
      "grid_auto_columns": null,
      "grid_auto_flow": null,
      "grid_auto_rows": null,
      "grid_column": null,
      "grid_gap": null,
      "grid_row": null,
      "grid_template_areas": null,
      "grid_template_columns": null,
      "grid_template_rows": null,
      "height": null,
      "justify_content": null,
      "justify_items": null,
      "left": null,
      "margin": null,
      "max_height": null,
      "max_width": null,
      "min_height": null,
      "min_width": null,
      "object_fit": null,
      "object_position": null,
      "order": null,
      "overflow": null,
      "overflow_x": null,
      "overflow_y": null,
      "padding": null,
      "right": null,
      "top": null,
      "visibility": null,
      "width": null
     }
    },
    "df1b5353c28f478fb7bfee20bdd2983e": {
     "model_module": "@jupyter-widgets/controls",
     "model_module_version": "1.5.0",
     "model_name": "DescriptionStyleModel",
     "state": {
      "_model_module": "@jupyter-widgets/controls",
      "_model_module_version": "1.5.0",
      "_model_name": "DescriptionStyleModel",
      "_view_count": null,
      "_view_module": "@jupyter-widgets/base",
      "_view_module_version": "1.2.0",
      "_view_name": "StyleView",
      "description_width": ""
     }
    },
    "e0803b66b67e477292174af01ab22398": {
     "model_module": "@jupyter-widgets/base",
     "model_module_version": "1.2.0",
     "model_name": "LayoutModel",
     "state": {
      "_model_module": "@jupyter-widgets/base",
      "_model_module_version": "1.2.0",
      "_model_name": "LayoutModel",
      "_view_count": null,
      "_view_module": "@jupyter-widgets/base",
      "_view_module_version": "1.2.0",
      "_view_name": "LayoutView",
      "align_content": null,
      "align_items": null,
      "align_self": null,
      "border": null,
      "bottom": null,
      "display": null,
      "flex": null,
      "flex_flow": null,
      "grid_area": null,
      "grid_auto_columns": null,
      "grid_auto_flow": null,
      "grid_auto_rows": null,
      "grid_column": null,
      "grid_gap": null,
      "grid_row": null,
      "grid_template_areas": null,
      "grid_template_columns": null,
      "grid_template_rows": null,
      "height": null,
      "justify_content": null,
      "justify_items": null,
      "left": null,
      "margin": null,
      "max_height": null,
      "max_width": null,
      "min_height": null,
      "min_width": null,
      "object_fit": null,
      "object_position": null,
      "order": null,
      "overflow": null,
      "overflow_x": null,
      "overflow_y": null,
      "padding": null,
      "right": null,
      "top": null,
      "visibility": null,
      "width": null
     }
    },
    "e18ce856d88442f8a8a1de7b34ef9ea8": {
     "model_module": "@jupyter-widgets/base",
     "model_module_version": "1.2.0",
     "model_name": "LayoutModel",
     "state": {
      "_model_module": "@jupyter-widgets/base",
      "_model_module_version": "1.2.0",
      "_model_name": "LayoutModel",
      "_view_count": null,
      "_view_module": "@jupyter-widgets/base",
      "_view_module_version": "1.2.0",
      "_view_name": "LayoutView",
      "align_content": null,
      "align_items": null,
      "align_self": null,
      "border": null,
      "bottom": null,
      "display": null,
      "flex": null,
      "flex_flow": null,
      "grid_area": null,
      "grid_auto_columns": null,
      "grid_auto_flow": null,
      "grid_auto_rows": null,
      "grid_column": null,
      "grid_gap": null,
      "grid_row": null,
      "grid_template_areas": null,
      "grid_template_columns": null,
      "grid_template_rows": null,
      "height": null,
      "justify_content": null,
      "justify_items": null,
      "left": null,
      "margin": null,
      "max_height": null,
      "max_width": null,
      "min_height": null,
      "min_width": null,
      "object_fit": null,
      "object_position": null,
      "order": null,
      "overflow": null,
      "overflow_x": null,
      "overflow_y": null,
      "padding": null,
      "right": null,
      "top": null,
      "visibility": null,
      "width": null
     }
    },
    "e5162a30d2d54246be838b2b73ea528d": {
     "model_module": "@jupyter-widgets/base",
     "model_module_version": "1.2.0",
     "model_name": "LayoutModel",
     "state": {
      "_model_module": "@jupyter-widgets/base",
      "_model_module_version": "1.2.0",
      "_model_name": "LayoutModel",
      "_view_count": null,
      "_view_module": "@jupyter-widgets/base",
      "_view_module_version": "1.2.0",
      "_view_name": "LayoutView",
      "align_content": null,
      "align_items": null,
      "align_self": null,
      "border": null,
      "bottom": null,
      "display": null,
      "flex": null,
      "flex_flow": null,
      "grid_area": null,
      "grid_auto_columns": null,
      "grid_auto_flow": null,
      "grid_auto_rows": null,
      "grid_column": null,
      "grid_gap": null,
      "grid_row": null,
      "grid_template_areas": null,
      "grid_template_columns": null,
      "grid_template_rows": null,
      "height": null,
      "justify_content": null,
      "justify_items": null,
      "left": null,
      "margin": null,
      "max_height": null,
      "max_width": null,
      "min_height": null,
      "min_width": null,
      "object_fit": null,
      "object_position": null,
      "order": null,
      "overflow": null,
      "overflow_x": null,
      "overflow_y": null,
      "padding": null,
      "right": null,
      "top": null,
      "visibility": null,
      "width": null
     }
    },
    "ec436c6536d94e868980223f75b55ee7": {
     "model_module": "@jupyter-widgets/base",
     "model_module_version": "1.2.0",
     "model_name": "LayoutModel",
     "state": {
      "_model_module": "@jupyter-widgets/base",
      "_model_module_version": "1.2.0",
      "_model_name": "LayoutModel",
      "_view_count": null,
      "_view_module": "@jupyter-widgets/base",
      "_view_module_version": "1.2.0",
      "_view_name": "LayoutView",
      "align_content": null,
      "align_items": null,
      "align_self": null,
      "border": null,
      "bottom": null,
      "display": null,
      "flex": null,
      "flex_flow": null,
      "grid_area": null,
      "grid_auto_columns": null,
      "grid_auto_flow": null,
      "grid_auto_rows": null,
      "grid_column": null,
      "grid_gap": null,
      "grid_row": null,
      "grid_template_areas": null,
      "grid_template_columns": null,
      "grid_template_rows": null,
      "height": null,
      "justify_content": null,
      "justify_items": null,
      "left": null,
      "margin": null,
      "max_height": null,
      "max_width": null,
      "min_height": null,
      "min_width": null,
      "object_fit": null,
      "object_position": null,
      "order": null,
      "overflow": null,
      "overflow_x": null,
      "overflow_y": null,
      "padding": null,
      "right": null,
      "top": null,
      "visibility": null,
      "width": null
     }
    },
    "f3fe42a3ee254e36aab3c502f3b72bbc": {
     "model_module": "@jupyter-widgets/controls",
     "model_module_version": "1.5.0",
     "model_name": "ProgressStyleModel",
     "state": {
      "_model_module": "@jupyter-widgets/controls",
      "_model_module_version": "1.5.0",
      "_model_name": "ProgressStyleModel",
      "_view_count": null,
      "_view_module": "@jupyter-widgets/base",
      "_view_module_version": "1.2.0",
      "_view_name": "StyleView",
      "bar_color": null,
      "description_width": ""
     }
    },
    "f6f421833284422eb341bde7a23aa084": {
     "model_module": "@jupyter-widgets/base",
     "model_module_version": "1.2.0",
     "model_name": "LayoutModel",
     "state": {
      "_model_module": "@jupyter-widgets/base",
      "_model_module_version": "1.2.0",
      "_model_name": "LayoutModel",
      "_view_count": null,
      "_view_module": "@jupyter-widgets/base",
      "_view_module_version": "1.2.0",
      "_view_name": "LayoutView",
      "align_content": null,
      "align_items": null,
      "align_self": null,
      "border": null,
      "bottom": null,
      "display": null,
      "flex": null,
      "flex_flow": null,
      "grid_area": null,
      "grid_auto_columns": null,
      "grid_auto_flow": null,
      "grid_auto_rows": null,
      "grid_column": null,
      "grid_gap": null,
      "grid_row": null,
      "grid_template_areas": null,
      "grid_template_columns": null,
      "grid_template_rows": null,
      "height": null,
      "justify_content": null,
      "justify_items": null,
      "left": null,
      "margin": null,
      "max_height": null,
      "max_width": null,
      "min_height": null,
      "min_width": null,
      "object_fit": null,
      "object_position": null,
      "order": null,
      "overflow": null,
      "overflow_x": null,
      "overflow_y": null,
      "padding": null,
      "right": null,
      "top": null,
      "visibility": null,
      "width": null
     }
    },
    "fc537438348a48ba95888953f3cbde8f": {
     "model_module": "@jupyter-widgets/controls",
     "model_module_version": "1.5.0",
     "model_name": "DescriptionStyleModel",
     "state": {
      "_model_module": "@jupyter-widgets/controls",
      "_model_module_version": "1.5.0",
      "_model_name": "DescriptionStyleModel",
      "_view_count": null,
      "_view_module": "@jupyter-widgets/base",
      "_view_module_version": "1.2.0",
      "_view_name": "StyleView",
      "description_width": ""
     }
    },
    "feb2c63c6013485fa746460b91afc9cd": {
     "model_module": "@jupyter-widgets/base",
     "model_module_version": "1.2.0",
     "model_name": "LayoutModel",
     "state": {
      "_model_module": "@jupyter-widgets/base",
      "_model_module_version": "1.2.0",
      "_model_name": "LayoutModel",
      "_view_count": null,
      "_view_module": "@jupyter-widgets/base",
      "_view_module_version": "1.2.0",
      "_view_name": "LayoutView",
      "align_content": null,
      "align_items": null,
      "align_self": null,
      "border": null,
      "bottom": null,
      "display": null,
      "flex": null,
      "flex_flow": null,
      "grid_area": null,
      "grid_auto_columns": null,
      "grid_auto_flow": null,
      "grid_auto_rows": null,
      "grid_column": null,
      "grid_gap": null,
      "grid_row": null,
      "grid_template_areas": null,
      "grid_template_columns": null,
      "grid_template_rows": null,
      "height": null,
      "justify_content": null,
      "justify_items": null,
      "left": null,
      "margin": null,
      "max_height": null,
      "max_width": null,
      "min_height": null,
      "min_width": null,
      "object_fit": null,
      "object_position": null,
      "order": null,
      "overflow": null,
      "overflow_x": null,
      "overflow_y": null,
      "padding": null,
      "right": null,
      "top": null,
      "visibility": null,
      "width": null
     }
    },
    "ffa878e59e04416395ddad842a4dff38": {
     "model_module": "@jupyter-widgets/controls",
     "model_module_version": "1.5.0",
     "model_name": "HBoxModel",
     "state": {
      "_dom_classes": [],
      "_model_module": "@jupyter-widgets/controls",
      "_model_module_version": "1.5.0",
      "_model_name": "HBoxModel",
      "_view_count": null,
      "_view_module": "@jupyter-widgets/controls",
      "_view_module_version": "1.5.0",
      "_view_name": "HBoxView",
      "box_style": "",
      "children": [
       "IPY_MODEL_210e7b43dae34838a0e449099003661e",
       "IPY_MODEL_3d9fdb43984645a5ac95acc93d2e5019",
       "IPY_MODEL_a6d344766e724cc2adde44ed156a99e3"
      ],
      "layout": "IPY_MODEL_adbc32fb72524b8891a5e759f64eeffa"
     }
    }
   }
  }
 },
 "nbformat": 4,
 "nbformat_minor": 5
}
